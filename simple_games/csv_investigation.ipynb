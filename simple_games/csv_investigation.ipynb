{
 "cells": [
  {
   "cell_type": "markdown",
   "metadata": {},
   "source": [
    "In this Notebook, we will be exploring how to create a `csv_writer()` function.\n",
    "\n",
    "The function should accomplish a single task: When given a list of game data and a filename, it should create a `.csv` file of the provided name containing easily-parsable game data.\n",
    "\n",
    "We have 2 possible approaches to this:\n",
    "* A generic function that will work regardless of the game data provided\n",
    "* Unique functions for each game\n",
    "\n",
    "Both approaches are valid, but come with their own benefits and drawbacks.\n",
    "\n",
    "Creating a generic function would allow us to write the least amount of code. It would also encourage a standarized format for data files, as each game would be written in by the same function in the same format (In reality, this can be either a benefit or a drawback).\n",
    "\n",
    "Creating unique functions for each game would require more up-front coding, but coule reduce ambiguity and problems down the road related to \"overly-abstract\" code. Additionally, it would give us the flexability needed to deviate from a standard `.csv` format if needed.\n",
    "\n",
    "Speaking of format, let's discuss what kind of format our data should be presented in.\n",
    "\n",
    "Again, we find ourselves with two approaches:\n",
    "\n",
    "| option 1 |        state_1       | state_2              | ... |       state_k        | winner     |\n",
    "|:--------:|:--------------------:|----------------------|:---:|----------------------|------------|\n",
    "|  game_1  | playername move_made | playername move_made | ... | playername move_made | playername |\n",
    "|  game_2  | playername move_made | playername move_made | ... | playername move_made | playername |\n",
    "|    ...   |          ...         | ...                  | ... |         ...          |    ...     |\n",
    "|  game_n  | playername move_made | playername move_made | ... | playername move_made | playername |\n",
    "\n",
    "| option 2 | state_1 PLAYER | state_1 MOVE | state_2 PLAYER | state_2 MOVE | ... | state_k PLAYER | state_k MOVE | winner     |\n",
    "|:--------:|:--------------:|--------------|----------------|--------------|:---:|----------------|--------------|------------|\n",
    "|  game_1  |   playername   | move_made    | playername     | move_made    | ... | playername     | move_made    | playername |\n",
    "|  game_2  |   playername   | move_made    | playername     | move_made    | ... | playername     | move_made    | playername |\n",
    "|    ...   |       ...      | ...          | ...            | ...          | ... | ...            |  ...         |   ...      |\n",
    "|  game_n  |   playername   | move_made    | playername     | move_made    | ... | playername     | move_made    | playername |\n",
    "\n",
    "Let us first consider the similarities:\n",
    "* An entire game's data fits into a single row\n",
    "* The columns represent the game states\n",
    "* Entries in the table contain the move made at that state in the game and the player who made that move\n",
    "\n",
    "Now let us acknowledge the differences:\n",
    "* Option 1:\n",
    "    * Columns are game states\n",
    "    * Each table entry is a pair, containing BOTH the player who moved and the move made\n",
    "* Option 2:\n",
    "    * There are twice as many columns\n",
    "    * Columns are \"paired\" with each pair being the player whose turn it was at that game state and the move made at that game state\n",
    "    * Each entry is *either* a player name *or* a move made\n",
    "\n",
    "Both options provide decent benefits and drawbacks. Let us observe them.\n",
    "\n",
    "Option 1 provides the most concise way of viewing the data. Rows and columns cleanly provide ways to access the necessary data. However, extracting bits of data from the table may cause problems. For example, if one wishes to read the `.csv` into a python DataFrame, additional parsing would be needed to extra *just* the \"move_made\" or *just* the \"playername\" at a given board state. Additionally, special care would need to go into deciding a delimiter to separate the player name and move made. Obviously, it cannot be a comma. The pipe symbol `|` may work. Finally, this may require less code initially as the `(playername, move_made)` format is how the game data is stored in the `board.data` object.\n",
    "\n",
    "Option 2 provides a much more complex way of viewing the data. To extrapolate important information, one needs to isolate a column pair. Additional code would be needed to identify column pairs based on game state. However, extracting bits of data may be significantly easier. Indexing directly into a row/column pair will give the immediate data at that entry, without the need to parse additionally.\n",
    "\n",
    "We do not initially know which format will be easiest to work with. We know that both will require additional code/work to extrapolate specific bits of data. We will investigate both formats."
   ]
  },
  {
   "cell_type": "markdown",
   "metadata": {},
   "source": [
    "Obviously, we start by importing everything we need to run some games."
   ]
  },
  {
   "cell_type": "code",
   "execution_count": 24,
   "metadata": {},
   "outputs": [],
   "source": [
    "from classes.player import Player\n",
    "from classes.board import Board\n",
    "from classes.referee import Referee\n",
    "from classes.game import Game\n",
    "\n",
    "# Import the rulesets and strategy\n",
    "from toothpick_takeaway.classes.toothpick_ruleset import ToothpickRuleset\n",
    "from toothpick_takeaway.classes.toothpick_strategy import ToothpickStrategy\n",
    "from unbalanced_rook.classes.rook_ruleset import RookRuleset\n",
    "from unbalanced_rook.classes.rook_strategy import RookStrategy"
   ]
  },
  {
   "cell_type": "markdown",
   "metadata": {},
   "source": [
    "Next let's set up the game(s).\n",
    "As usual, this consists of:\n",
    "* Initializing a ruleset and strategy\n",
    "* Initializing two players\n",
    "* Initializing a board\n",
    "* Initializing a referee\n",
    "* Initializing a game\n",
    "\n",
    "Then we run the games in a loop, appending the returned data to a list to be used later.\n",
    "\n",
    "Comment out either the Toothpick ruleset/strategy code, or the Rook ruleset/strategy code, depending on what game you want to run."
   ]
  },
  {
   "cell_type": "code",
   "execution_count": 2,
   "metadata": {},
   "outputs": [],
   "source": [
    "#ruleset =  ToothpickRuleset(\"Toothpick Takeaway Ruleset\", initial_state=10, bounds=2)\n",
    "#strategy = ToothpickStrategy(\"Random Strategy for Toothpick Takeaway\")\n",
    "ruleset =  RookRuleset(\"Rook Takeaway Ruleset\", initial_state={\"D\": 0, \"R\": 0}, bounds={\"D\": 10, \"R\": 10})\n",
    "strategy = RookStrategy(\"Random Strategy for Unbalanced Rook\")\n",
    "\n",
    "p1 = Player(\"player1\", strategy)\n",
    "p2 = Player(\"player2\", strategy)\n",
    "\n",
    "board = Board(ruleset.initial_state, ruleset.bounds)\n",
    "\n",
    "ref = Referee(board, ruleset)\n",
    "\n",
    "game = Game(ref, board, [p1, p2])\n",
    "\n",
    "games = []\n",
    "for i in range(10):\n",
    "\n",
    "    data = game.play().data\n",
    "    games.append(data)"
   ]
  },
  {
   "cell_type": "markdown",
   "metadata": {},
   "source": [
    "As a reference, here is the `csv_writer` function we used for Toothpick Takeaway last Fall:"
   ]
  },
  {
   "cell_type": "code",
   "execution_count": 25,
   "metadata": {},
   "outputs": [],
   "source": [
    "import csv\n",
    "def write_to_csv(game_data, filename):\n",
    "    \"\"\"\n",
    "    Writes game data to a .csv file.\n",
    "\n",
    "    Parameters:\n",
    "        game_data (list): Data of each turn made in the game and the winner of that game\n",
    "        filename (string): Name of the file to write to\n",
    "    \"\"\"\n",
    "    # Get the total number of toothpicks at the start\n",
    "    start_val = max(game_data[0].history.keys())\n",
    "\n",
    "    # Make a descending list of all toothpicks left\n",
    "    toothpicks_left = list(range(start_val, 0, -1))\n",
    "\n",
    "    # Create our headings: Toothpicks left and turn\n",
    "    headings = []\n",
    "    for heading in toothpicks_left:\n",
    "        headings.append(heading)\n",
    "        headings.append(\"turn_{}\".format(heading))\n",
    "    headings.append(\"winner\")\n",
    "\n",
    "    # Start building rows; one row per game\n",
    "    rows = []\n",
    "    for summary in game_data:\n",
    "        # How many toothpicks were taken at each turn in the game\n",
    "        turns = [summary.history[turn][\"move\"] for turn in summary.history]\n",
    "        # Who took those toothpicks\n",
    "        names = [summary.history[turn][\"name\"] for turn in summary.history]\n",
    "\n",
    "        # Start creating a row\n",
    "        moves = []\n",
    "        for i in range(len(turns)):\n",
    "            # Append the toothpicks taken\n",
    "            moves.append(turns[i])\n",
    "            # Append the player who took them\n",
    "            moves.append(names[i])\n",
    "\n",
    "            # If a turn was 2, add a turn of 0 after it\n",
    "            # This ensures that our rows are all the same length\n",
    "            if turns[i] == 2:\n",
    "                moves.append(None)\n",
    "                moves.append(None)\n",
    "\n",
    "        # Append the winner of the game\n",
    "        moves.append(summary.winner)\n",
    "\n",
    "        # Add the row we just made to the running list of rows\n",
    "        rows.append(moves)\n",
    "\n",
    "    # Write to csv\n",
    "    with open(filename, \"w\") as csvfile:\n",
    "        csvwriter = csv.writer(csvfile)\n",
    "        csvwriter.writerow(headings)\n",
    "        csvwriter.writerows(rows)"
   ]
  },
  {
   "cell_type": "markdown",
   "metadata": {},
   "source": [
    "The code is not elegant, generic, or streamlined. It follows the format described in Option 2 above. It serves as an excellent reference."
   ]
  },
  {
   "cell_type": "markdown",
   "metadata": {},
   "source": [
    "Now let's begin writing a basic `csv_writer` function. For this trial, we will attempt a generic csv writer that follows Option 1's format from above."
   ]
  },
  {
   "cell_type": "code",
   "execution_count": 26,
   "metadata": {},
   "outputs": [],
   "source": [
    "import csv\n",
    "\n",
    "def csv_writer(game_data, filename, delimiter = \"|\"):\n",
    "    \"\"\"\n",
    "    Generic CSV writer. Writes game data to a .csv file.\n",
    "\n",
    "    Parameters:\n",
    "        game_data (list): Data of each turn made in the game and the winner of that game\n",
    "        filename (string): Name of the file to write to\n",
    "        delimiter (string): The character between \"playername\" and \"move made\"\n",
    "    \"\"\"\n",
    "    # Step 1: Get a list of all possible game states\n",
    "    # These server as the headers or column names in the csv\n",
    "    # In this example, we iterate over the game data provided\n",
    "    # and extract all unique game states into a list\n",
    "    # Then, we sort the list (just to make it a bit more readable)\n",
    "    game_states = [] \n",
    "    for data in game_data:\n",
    "        # \"data\" is a single game's history\n",
    "\n",
    "        for state in data.keys():\n",
    "            if state not in game_states:\n",
    "                game_states.append(str(state))\n",
    "    game_states.sort()\n",
    "    \n",
    "    # Now we need to build each row of the csv\n",
    "    rows = []\n",
    "    for data in game_data:\n",
    "        # \"data\" is a single game's history\n",
    "        # A single row represents a single game's move history\n",
    "        row = []\n",
    "        for state in data.keys():\n",
    "            pass"
   ]
  },
  {
   "cell_type": "markdown",
   "metadata": {},
   "source": [
    "Let's test out our function to see the results it produces:"
   ]
  },
  {
   "cell_type": "code",
   "execution_count": 23,
   "metadata": {},
   "outputs": [],
   "source": [
    "# Toothpick Game State\n",
    "\n",
    "csv_writer(games, \"test_file\")"
   ]
  },
  {
   "cell_type": "markdown",
   "metadata": {},
   "source": [
    "### Notes"
   ]
  },
  {
   "cell_type": "markdown",
   "metadata": {},
   "source": [
    "Writing to a `.csv` format takes a significant amount of planning to ensure a good format.\n",
    "\n",
    "Here are some important things to consider when writing the function:\n",
    "* All possible game states *must* be known when creating the csv. This is because the columns of the table must represent the states of the game at every turn.\n",
    "* The columns do not necessarily *need* to be in order. Ordering them would certainly make the game data easier to read, but it is not a requirement\n",
    "    * \"In order\" will also differ depending on the game. For Toothpick Takeaway, \"ordered\" means descending from the max number of toothpicks to 0, whereas in Unbalanced Rook, \"ordered\" means `(0,0)` to the end of the board, `(n,m)`, in the sequence they were made.\n",
    "* Once all possible board states are known, a list of these states should be created to represent the \"headings\" or \"columns\" of the `.csv`, with the addition of a \"winner\" column at the end.\n",
    "* We now need to create a `row`, (list) for each game\n",
    "* Each `row` needs to contain:\n",
    "    * The moves made at every state in the game\n",
    "    * `None` when no move was made at the game state in the current column\n",
    "    * The winner's name, at the end\n",
    "\n",
    "If that last bullet seems confusing, it's because it is. There are multiple ways of doing this, but none seem efficient or wise.\n",
    "Essentially, we need to iterate over the list of all possible game states and then, for every game, if the game contains a move made at that game state, we store the move, otherwise we store `None` and continue iterating. This seems terribly inefficient."
   ]
  },
  {
   "cell_type": "code",
   "execution_count": null,
   "metadata": {},
   "outputs": [],
   "source": []
  }
 ],
 "metadata": {
  "kernelspec": {
   "display_name": "Python 3",
   "language": "python",
   "name": "python3"
  },
  "language_info": {
   "codemirror_mode": {
    "name": "ipython",
    "version": 3
   },
   "file_extension": ".py",
   "mimetype": "text/x-python",
   "name": "python",
   "nbconvert_exporter": "python",
   "pygments_lexer": "ipython3",
   "version": "3.8.5"
  }
 },
 "nbformat": 4,
 "nbformat_minor": 4
}
