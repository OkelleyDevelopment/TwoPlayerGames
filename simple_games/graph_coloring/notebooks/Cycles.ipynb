{
 "cells": [
  {
   "cell_type": "markdown",
   "id": "ab3fdc0c",
   "metadata": {},
   "source": [
    "# Using Evolution on Cyclic Graphs"
   ]
  },
  {
   "cell_type": "markdown",
   "id": "3f526cbb",
   "metadata": {},
   "source": [
    "Cycles are a simple graph with a known competitive coloring number. Both even and odd cycles have competitive coloring numbers of 3. We know that it is impossible for a cycle (of order > 2) to have a competitive coloring number of 2. Take, for example, a cycle of order 3. Each node has two neighbors, so coloring node 0 with color 1 means that nodes 1 and 2 need colors other than 1, but they cannot share the same color as they are connected. Thus at least three colors are required."
   ]
  },
  {
   "cell_type": "markdown",
   "id": "32cffa20",
   "metadata": {},
   "source": [
    "# Table of Contents\n",
    "\n",
    "- [Setup](#Setup)\n",
    "- [Simulations](#Simulations)\n",
    "    - [Even Cycles](#Even-Cycles)\n",
    "    - [Odd Cycles](#Odd-Cylces)\n",
    "- [Conclusion](#Conclusion)"
   ]
  },
  {
   "cell_type": "markdown",
   "id": "c367bdd5",
   "metadata": {},
   "source": [
    "## Setup"
   ]
  },
  {
   "cell_type": "markdown",
   "id": "e0029022",
   "metadata": {},
   "source": [
    "As always, we begin with our imports."
   ]
  },
  {
   "cell_type": "code",
   "execution_count": 1,
   "id": "2db99b05",
   "metadata": {},
   "outputs": [],
   "source": [
    "import sys\n",
    "sys.path.append(\"../..\")\n",
    "\n",
    "from classes.genetic_algorithm import GeneticAlgorithm\n",
    "from graph_coloring.classes.gc_ruleset import GCRuleset\n",
    "from graph_coloring.classes.gc_random_init_strategy import GCRandomInitStrategy"
   ]
  },
  {
   "cell_type": "markdown",
   "id": "e666c291",
   "metadata": {},
   "source": [
    "To begin, we will define a function that generates a cycle on a provided number of vertices."
   ]
  },
  {
   "cell_type": "code",
   "execution_count": 2,
   "id": "ea784ace",
   "metadata": {},
   "outputs": [],
   "source": [
    "def generate_cycle(num_vertices):\n",
    "    \"\"\"\n",
    "    Generates a cycle with the provided number of vertices.\n",
    "    \n",
    "    Parameters:\n",
    "        num_vertices (int): Number of vertices to generate for this cycle.\n",
    "        \n",
    "    Returns:\n",
    "        A cycle on the provided number of vertices.\n",
    "    \"\"\"\n",
    "    cycle = []\n",
    "    for vtx in range(num_vertices):\n",
    "        # Set previous vertex (vtx - 1) with the special case for vertex 0\n",
    "        prev_vtx = num_vertices - 1 if vtx == 0 else vtx - 1\n",
    "        \n",
    "        # Set the next vertex (vtx + 1) and account for the special case of the last vertex\n",
    "        next_vtx = (vtx + 1) % num_vertices\n",
    "        \n",
    "        # Append the node\n",
    "        cycle.append({\"color\": 0, \"adj\": [prev_vtx, next_vtx]})\n",
    "    \n",
    "    return cycle"
   ]
  },
  {
   "cell_type": "markdown",
   "id": "2627c7eb",
   "metadata": {},
   "source": [
    "Next, we need to create a new `GeneticAlgorithm` object. Note that the constructor for this object takes a multitude of parameters by name, so let's format it nicely for future changes.\n",
    "\n",
    "Most of the parameters, like population size and fitness, are optional. The only mandatory parameters are `ruleset`, `random_on_init_strategy`, and `strat_data`. The former is the ruleset for the game being tested. The latter two define how each member of the population receives a random strategy to play with.\n",
    "\n",
    "The only two aspects of the genetic algorithm we are concerned with at this time are the number of nodes in the cycle and the number of colors in the game, so let us define a function to streamline this process for the rest of this notebook."
   ]
  },
  {
   "cell_type": "code",
   "execution_count": 3,
   "id": "299a7103",
   "metadata": {},
   "outputs": [],
   "source": [
    "def cycle_test(num_vertices, num_colors):\n",
    "    \"\"\"\n",
    "    Runs an evolutionary algorithm on a cycle graph with the provided number of vertices and colors.\n",
    "    \n",
    "    Parameters:\n",
    "        num_vertices (int): Order of the cycle.\n",
    "        num_colors (int): Number of colors for this game.\n",
    "        \n",
    "    Returns:\n",
    "        Two populations of players, after evolution.\n",
    "    \"\"\"\n",
    "    # Define a cycle to play on\n",
    "    initial_state = generate_cycle(num_vertices)\n",
    "\n",
    "    # Ruleset of the game being played on\n",
    "    ruleset = GCRuleset(\"Graph Coloring Ruleset\", initial_state, bounds = num_colors)\n",
    "\n",
    "    # Create a new Evolution instance with the example strategy\n",
    "    gen_algo = GeneticAlgorithm(\n",
    "        ruleset,\n",
    "        # Random-on-initialization strategy for generating populations of random players\n",
    "        random_on_init_strat = GCRandomInitStrategy,\n",
    "        # Data to be used by the above strategy\n",
    "        strat_data = {\"vertices\": range(len(ruleset.initial_state)), \"colors\": range(1, ruleset.bounds + 1)},\n",
    "        # Size of the populations\n",
    "        pop_size = 100,\n",
    "        # Number of generations to iterate through\n",
    "        iterations = 10,\n",
    "        # Minimum number of games each player must play during a generation\n",
    "        num_games = 10,\n",
    "        # Starting fitness threshold\n",
    "        fitness = 0.5,\n",
    "        # Maximum fitness threshold; be careful of setting this too close to 1.0\n",
    "        max_fitness = 0.9,\n",
    "        # How much the fitness threshold should increment after each iteration\n",
    "        fitness_increment = 0.025,\n",
    "        # Chance of a mutation to occur during player reproduction\n",
    "        mutation_rate = 0.025\n",
    "    )\n",
    "\n",
    "    p1_pop, p2_pop = gen_algo.evolve(to_df=True)\n",
    "    \n",
    "    return p1_pop, p2_pop"
   ]
  },
  {
   "cell_type": "markdown",
   "id": "17624977",
   "metadata": {},
   "source": [
    "---\n",
    "# Simulations\n",
    "----"
   ]
  },
  {
   "cell_type": "markdown",
   "id": "54b5c17f",
   "metadata": {},
   "source": [
    "## Even Cycles"
   ]
  },
  {
   "cell_type": "markdown",
   "id": "a49ce99c",
   "metadata": {},
   "source": [
    "Now we simply call our function. We will begin with a cycle of order 6 and 3 colors."
   ]
  },
  {
   "cell_type": "code",
   "execution_count": 4,
   "id": "91b29560",
   "metadata": {},
   "outputs": [],
   "source": [
    "p1_pop, p2_pop = cycle_test(num_vertices=6, num_colors=3)"
   ]
  },
  {
   "cell_type": "markdown",
   "id": "d8cc5a6b",
   "metadata": {},
   "source": [
    "Once our populations have finished evolving, we can view each of them to see the top players in each."
   ]
  },
  {
   "cell_type": "code",
   "execution_count": 5,
   "id": "5ceaaf02",
   "metadata": {},
   "outputs": [
    {
     "data": {
      "text/html": [
       "<div>\n",
       "<style scoped>\n",
       "    .dataframe tbody tr th:only-of-type {\n",
       "        vertical-align: middle;\n",
       "    }\n",
       "\n",
       "    .dataframe tbody tr th {\n",
       "        vertical-align: top;\n",
       "    }\n",
       "\n",
       "    .dataframe thead th {\n",
       "        text-align: right;\n",
       "    }\n",
       "</style>\n",
       "<table border=\"1\" class=\"dataframe\">\n",
       "  <thead>\n",
       "    <tr style=\"text-align: right;\">\n",
       "      <th></th>\n",
       "      <th>Name</th>\n",
       "      <th>Gen</th>\n",
       "      <th>Vertices</th>\n",
       "      <th>Colors</th>\n",
       "      <th>Fitness</th>\n",
       "      <th>Wins</th>\n",
       "      <th>Losses</th>\n",
       "    </tr>\n",
       "  </thead>\n",
       "  <tbody>\n",
       "    <tr>\n",
       "      <th>95</th>\n",
       "      <td>Player 1</td>\n",
       "      <td>0</td>\n",
       "      <td>[5, 4, 2, 3, 0, 1]</td>\n",
       "      <td>[1, 3, 2]</td>\n",
       "      <td>1.0</td>\n",
       "      <td>228</td>\n",
       "      <td>0</td>\n",
       "    </tr>\n",
       "    <tr>\n",
       "      <th>46</th>\n",
       "      <td>Player 1</td>\n",
       "      <td>0</td>\n",
       "      <td>[5, 0, 3, 2, 4, 1]</td>\n",
       "      <td>[3, 1, 2]</td>\n",
       "      <td>1.0</td>\n",
       "      <td>221</td>\n",
       "      <td>0</td>\n",
       "    </tr>\n",
       "    <tr>\n",
       "      <th>15</th>\n",
       "      <td>Player 1</td>\n",
       "      <td>0</td>\n",
       "      <td>[4, 1, 3, 2, 0, 5]</td>\n",
       "      <td>[1, 2, 3]</td>\n",
       "      <td>1.0</td>\n",
       "      <td>219</td>\n",
       "      <td>0</td>\n",
       "    </tr>\n",
       "    <tr>\n",
       "      <th>53</th>\n",
       "      <td>Player 1</td>\n",
       "      <td>0</td>\n",
       "      <td>[1, 2, 3, 4, 5, 0]</td>\n",
       "      <td>[2, 1, 3]</td>\n",
       "      <td>1.0</td>\n",
       "      <td>215</td>\n",
       "      <td>0</td>\n",
       "    </tr>\n",
       "    <tr>\n",
       "      <th>5</th>\n",
       "      <td>Player 1</td>\n",
       "      <td>0</td>\n",
       "      <td>[1, 3, 5, 2, 4, 0]</td>\n",
       "      <td>[2, 3, 1]</td>\n",
       "      <td>1.0</td>\n",
       "      <td>214</td>\n",
       "      <td>0</td>\n",
       "    </tr>\n",
       "  </tbody>\n",
       "</table>\n",
       "</div>"
      ],
      "text/plain": [
       "        Name Gen            Vertices     Colors  Fitness Wins Losses\n",
       "95  Player 1   0  [5, 4, 2, 3, 0, 1]  [1, 3, 2]      1.0  228      0\n",
       "46  Player 1   0  [5, 0, 3, 2, 4, 1]  [3, 1, 2]      1.0  221      0\n",
       "15  Player 1   0  [4, 1, 3, 2, 0, 5]  [1, 2, 3]      1.0  219      0\n",
       "53  Player 1   0  [1, 2, 3, 4, 5, 0]  [2, 1, 3]      1.0  215      0\n",
       "5   Player 1   0  [1, 3, 5, 2, 4, 0]  [2, 3, 1]      1.0  214      0"
      ]
     },
     "execution_count": 5,
     "metadata": {},
     "output_type": "execute_result"
    }
   ],
   "source": [
    "p1_pop.head()"
   ]
  },
  {
   "cell_type": "code",
   "execution_count": 6,
   "id": "4c9a44e7",
   "metadata": {},
   "outputs": [
    {
     "data": {
      "text/html": [
       "<div>\n",
       "<style scoped>\n",
       "    .dataframe tbody tr th:only-of-type {\n",
       "        vertical-align: middle;\n",
       "    }\n",
       "\n",
       "    .dataframe tbody tr th {\n",
       "        vertical-align: top;\n",
       "    }\n",
       "\n",
       "    .dataframe thead th {\n",
       "        text-align: right;\n",
       "    }\n",
       "</style>\n",
       "<table border=\"1\" class=\"dataframe\">\n",
       "  <thead>\n",
       "    <tr style=\"text-align: right;\">\n",
       "      <th></th>\n",
       "      <th>Name</th>\n",
       "      <th>Gen</th>\n",
       "      <th>Vertices</th>\n",
       "      <th>Colors</th>\n",
       "      <th>Fitness</th>\n",
       "      <th>Wins</th>\n",
       "      <th>Losses</th>\n",
       "    </tr>\n",
       "  </thead>\n",
       "  <tbody>\n",
       "    <tr>\n",
       "      <th>0</th>\n",
       "      <td>Player 2</td>\n",
       "      <td>0</td>\n",
       "      <td>[2, 0, 5, 3, 4, 1]</td>\n",
       "      <td>[3, 1, 2]</td>\n",
       "      <td>0.0</td>\n",
       "      <td>0</td>\n",
       "      <td>0</td>\n",
       "    </tr>\n",
       "    <tr>\n",
       "      <th>1</th>\n",
       "      <td>Player 2</td>\n",
       "      <td>0</td>\n",
       "      <td>[5, 0, 1, 2, 4, 3]</td>\n",
       "      <td>[1, 2, 3]</td>\n",
       "      <td>0.0</td>\n",
       "      <td>0</td>\n",
       "      <td>0</td>\n",
       "    </tr>\n",
       "    <tr>\n",
       "      <th>2</th>\n",
       "      <td>Player 2</td>\n",
       "      <td>0</td>\n",
       "      <td>[4, 0, 1, 5, 2, 3]</td>\n",
       "      <td>[3, 1, 2]</td>\n",
       "      <td>0.0</td>\n",
       "      <td>0</td>\n",
       "      <td>0</td>\n",
       "    </tr>\n",
       "    <tr>\n",
       "      <th>3</th>\n",
       "      <td>Player 2</td>\n",
       "      <td>0</td>\n",
       "      <td>[2, 0, 4, 1, 5, 3]</td>\n",
       "      <td>[1, 2, 3]</td>\n",
       "      <td>0.0</td>\n",
       "      <td>0</td>\n",
       "      <td>0</td>\n",
       "    </tr>\n",
       "    <tr>\n",
       "      <th>4</th>\n",
       "      <td>Player 2</td>\n",
       "      <td>0</td>\n",
       "      <td>[3, 2, 1, 0, 4, 5]</td>\n",
       "      <td>[3, 1, 2]</td>\n",
       "      <td>0.0</td>\n",
       "      <td>0</td>\n",
       "      <td>0</td>\n",
       "    </tr>\n",
       "  </tbody>\n",
       "</table>\n",
       "</div>"
      ],
      "text/plain": [
       "       Name Gen            Vertices     Colors  Fitness Wins Losses\n",
       "0  Player 2   0  [2, 0, 5, 3, 4, 1]  [3, 1, 2]      0.0    0      0\n",
       "1  Player 2   0  [5, 0, 1, 2, 4, 3]  [1, 2, 3]      0.0    0      0\n",
       "2  Player 2   0  [4, 0, 1, 5, 2, 3]  [3, 1, 2]      0.0    0      0\n",
       "3  Player 2   0  [2, 0, 4, 1, 5, 3]  [1, 2, 3]      0.0    0      0\n",
       "4  Player 2   0  [3, 2, 1, 0, 4, 5]  [3, 1, 2]      0.0    0      0"
      ]
     },
     "execution_count": 6,
     "metadata": {},
     "output_type": "execute_result"
    }
   ],
   "source": [
    "p2_pop.head()"
   ]
  },
  {
   "cell_type": "markdown",
   "id": "74c97a29",
   "metadata": {},
   "source": [
    "It appears that with 3 colors, player 1 can be guaranteed to win 100% of the time on a cycle of order 6. Let us test this again on a graph of 8 vertices."
   ]
  },
  {
   "cell_type": "code",
   "execution_count": 7,
   "id": "a802365a",
   "metadata": {},
   "outputs": [
    {
     "name": "stdout",
     "output_type": "stream",
     "text": [
      "        Name Gen                  Vertices     Colors  Fitness Wins Losses\n",
      "35  Player 1   0  [5, 2, 7, 4, 1, 3, 6, 0]  [1, 3, 2]      1.0  222      0\n",
      "85  Player 1   0  [2, 6, 0, 4, 7, 3, 1, 5]  [2, 1, 3]      1.0  221      0\n",
      "45  Player 1   0  [1, 2, 0, 5, 6, 4, 7, 3]  [1, 2, 3]      1.0  217      0\n",
      "50  Player 1   0  [6, 1, 3, 4, 2, 5, 7, 0]  [2, 3, 1]      1.0  215      0\n",
      "80  Player 1   0  [6, 2, 4, 3, 7, 5, 1, 0]  [3, 1, 2]      1.0  215      0\n",
      "       Name Gen                  Vertices     Colors  Fitness Wins Losses\n",
      "0  Player 2   0  [5, 1, 2, 7, 6, 0, 3, 4]  [2, 3, 1]      0.0    0      0\n",
      "1  Player 2   0  [0, 2, 1, 3, 5, 6, 7, 4]  [2, 3, 1]      0.0    0      0\n",
      "2  Player 2   0  [5, 1, 7, 0, 3, 2, 6, 4]  [1, 3, 2]      0.0    0      0\n",
      "3  Player 2   0  [6, 1, 5, 7, 4, 2, 3, 0]  [1, 3, 2]      0.0    0      0\n",
      "4  Player 2   0  [1, 0, 2, 7, 3, 5, 6, 4]  [3, 2, 1]      0.0    0      0\n"
     ]
    }
   ],
   "source": [
    "p1_pop, p2_pop = cycle_test(num_vertices=8, num_colors=3)\n",
    "print(p1_pop.head())\n",
    "print(p2_pop.head())"
   ]
  },
  {
   "cell_type": "markdown",
   "id": "1dbedddb",
   "metadata": {},
   "source": [
    "Again we see 100% victory in the player 1 population. Let us try on some arbitrary cycle sizes."
   ]
  },
  {
   "cell_type": "code",
   "execution_count": null,
   "id": "50898ed4",
   "metadata": {},
   "outputs": [
    {
     "name": "stdout",
     "output_type": "stream",
     "text": [
      "\n",
      "Testing on cycle of order 100\n",
      "        Name Gen                                           Vertices  \\\n",
      "26  Player 1   0  [16, 32, 25, 85, 9, 1, 96, 62, 23, 55, 70, 60,...   \n",
      "78  Player 1   0  [22, 88, 58, 83, 12, 8, 41, 62, 92, 89, 4, 56,...   \n",
      "81  Player 1   0  [59, 43, 17, 83, 63, 24, 71, 61, 77, 46, 42, 1...   \n",
      "54  Player 1   0  [20, 16, 26, 94, 54, 81, 38, 52, 14, 46, 72, 1...   \n",
      "94  Player 1   0  [87, 8, 42, 92, 27, 52, 61, 77, 99, 36, 17, 95...   \n",
      "\n",
      "       Colors  Fitness Wins Losses  \n",
      "26  [1, 3, 2]      1.0  219      0  \n",
      "78  [1, 3, 2]      1.0  218      0  \n",
      "81  [2, 1, 3]      1.0  218      0  \n",
      "54  [2, 1, 3]      1.0  215      0  \n",
      "94  [3, 2, 1]      1.0  215      0  \n",
      "       Name Gen                                           Vertices     Colors  \\\n",
      "0  Player 2   0  [80, 57, 50, 70, 55, 12, 26, 3, 38, 11, 33, 20...  [2, 3, 1]   \n",
      "1  Player 2   0  [4, 2, 3, 11, 16, 77, 91, 78, 94, 29, 27, 37, ...  [1, 3, 2]   \n",
      "2  Player 2   0  [30, 4, 82, 97, 71, 49, 78, 32, 81, 6, 8, 60, ...  [2, 3, 1]   \n",
      "3  Player 2   0  [68, 75, 48, 26, 29, 72, 83, 82, 76, 6, 65, 2,...  [2, 3, 1]   \n",
      "4  Player 2   0  [6, 37, 25, 77, 68, 72, 93, 11, 51, 82, 65, 78...  [2, 1, 3]   \n",
      "\n",
      "   Fitness Wins Losses  \n",
      "0      0.0    0      0  \n",
      "1      0.0    0      0  \n",
      "2      0.0    0      0  \n",
      "3      0.0    0      0  \n",
      "4      0.0    0      0  \n",
      "\n",
      "Testing on cycle of order 412\n",
      "        Name Gen                                           Vertices  \\\n",
      "77  Player 1   0  [0, 269, 256, 268, 248, 60, 226, 315, 115, 97,...   \n",
      "21  Player 1   0  [143, 83, 136, 246, 169, 223, 160, 8, 239, 408...   \n",
      "97  Player 1   0  [150, 399, 108, 174, 300, 411, 169, 351, 359, ...   \n",
      "8   Player 1   0  [87, 281, 77, 131, 232, 205, 329, 169, 3, 51, ...   \n",
      "78  Player 1   0  [116, 191, 104, 71, 193, 93, 254, 296, 190, 19...   \n",
      "\n",
      "       Colors  Fitness Wins Losses  \n",
      "77  [1, 3, 2]      1.0  222      0  \n",
      "21  [2, 3, 1]      1.0  221      0  \n",
      "97  [2, 1, 3]      1.0  221      0  \n",
      "8   [1, 2, 3]      1.0  219      0  \n",
      "78  [3, 1, 2]      1.0  219      0  \n",
      "       Name Gen                                           Vertices     Colors  \\\n",
      "0  Player 2   0  [341, 324, 112, 151, 9, 180, 45, 143, 52, 283,...  [3, 2, 1]   \n",
      "1  Player 2   0  [260, 15, 312, 21, 148, 328, 221, 69, 302, 114...  [1, 3, 2]   \n",
      "2  Player 2   0  [46, 43, 392, 219, 300, 349, 234, 237, 271, 76...  [1, 2, 3]   \n",
      "3  Player 2   0  [265, 123, 174, 159, 379, 21, 338, 399, 161, 2...  [1, 2, 3]   \n",
      "4  Player 2   0  [119, 232, 130, 1, 63, 44, 373, 271, 322, 88, ...  [1, 3, 2]   \n",
      "\n",
      "   Fitness Wins Losses  \n",
      "0      0.0    0      0  \n",
      "1      0.0    0      0  \n",
      "2      0.0    0      0  \n",
      "3      0.0    0      0  \n",
      "4      0.0    0      0  \n",
      "\n",
      "Testing on cycle of order 876\n"
     ]
    }
   ],
   "source": [
    "for order in [100, 412, 876, 1492, 10574]:\n",
    "    print(\"\\nTesting on cycle of order \" + str(order))\n",
    "    p1_pop, p2_pop = cycle_test(num_vertices=order, num_colors=3)\n",
    "    print(p1_pop.head())\n",
    "    print(p2_pop.head())"
   ]
  },
  {
   "cell_type": "markdown",
   "id": "5cbc72b3",
   "metadata": {},
   "source": [
    "While this is not as thorough as a mathematical proof, it is clear that player 1 can have a 100% success rate on an even cycle with 3 colors. Now we will focus our attention to odd cycles."
   ]
  },
  {
   "cell_type": "markdown",
   "id": "192bacee",
   "metadata": {},
   "source": [
    "## Odd Cycles"
   ]
  },
  {
   "cell_type": "code",
   "execution_count": null,
   "id": "10feafcc",
   "metadata": {},
   "outputs": [],
   "source": [
    "p1_pop, p2_pop = cycle_test(num_vertices=9, num_colors=3)\n",
    "print(p1_pop.head())\n",
    "print(p2_pop.head())"
   ]
  },
  {
   "cell_type": "markdown",
   "id": "27af13ad",
   "metadata": {},
   "source": [
    "Again we see expected behavior. On an odd cycle, player 1 is winning 100% of the time with 3 colors. Let us test this again on a variety of random graphs."
   ]
  },
  {
   "cell_type": "code",
   "execution_count": null,
   "id": "ec567c60",
   "metadata": {},
   "outputs": [],
   "source": [
    "for order in [103, 415, 879, 1495, 10571]:\n",
    "    print(\"\\nTesting on cycle of order \" + str(order))\n",
    "    p1_pop, p2_pop = cycle_test(num_vertices=order, num_colors=3)\n",
    "    print(p1_pop.head())\n",
    "    print(p2_pop.head())"
   ]
  },
  {
   "cell_type": "markdown",
   "id": "af8fb963",
   "metadata": {},
   "source": [
    "As expected, we see a clear 100% win rate for player 1 on odd cycles. This is, again, an expected result."
   ]
  },
  {
   "cell_type": "markdown",
   "id": "951a078b",
   "metadata": {},
   "source": [
    "## Conclusion"
   ]
  },
  {
   "cell_type": "markdown",
   "id": "591a8448",
   "metadata": {},
   "source": [
    "From the experiments listed above, it is clear that player 1 wins 100% of the time on various cycles. It is known that cycles have a competitive coloring number of 3, and our results support this."
   ]
  },
  {
   "cell_type": "code",
   "execution_count": null,
   "id": "46f729f9",
   "metadata": {},
   "outputs": [],
   "source": []
  }
 ],
 "metadata": {
  "kernelspec": {
   "display_name": "Python 3",
   "language": "python",
   "name": "python3"
  },
  "language_info": {
   "codemirror_mode": {
    "name": "ipython",
    "version": 3
   },
   "file_extension": ".py",
   "mimetype": "text/x-python",
   "name": "python",
   "nbconvert_exporter": "python",
   "pygments_lexer": "ipython3",
   "version": "3.8.5"
  }
 },
 "nbformat": 4,
 "nbformat_minor": 5
}
