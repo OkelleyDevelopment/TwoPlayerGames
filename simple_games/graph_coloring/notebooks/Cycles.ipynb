{
 "cells": [
  {
   "cell_type": "markdown",
   "id": "a9650df1-6fcb-465e-a0e1-03872731255c",
   "metadata": {},
   "source": [
    "# Using Evolution on Cyclic Graphs"
   ]
  },
  {
   "cell_type": "markdown",
   "id": "d7e19fa8-23d0-4baf-8b76-fff2767e1453",
   "metadata": {},
   "source": [
    "Cycles are a simple graph with a known competitive coloring number. Both even and odd cycles have competitive coloring numbers of 3. We know that it is impossible for a cycle (of order > 2) to have a competitive coloring number of 2. Take, for example, a cycle of order 3. Each node has two neighbors, so coloring node 0 with color 1 means that nodes 1 and 2 need colors other than 1, but they cannot share the same color as they are connected. Thus at least three colors are required."
   ]
  },
  {
   "cell_type": "markdown",
   "id": "504c5308-6ccd-4c8e-be9c-250eb332ef62",
   "metadata": {},
   "source": [
    "## Setup"
   ]
  },
  {
   "cell_type": "markdown",
   "id": "99f52393-107b-44fe-921f-6a06d80c4b1b",
   "metadata": {},
   "source": [
    "As always, we begin with our imports."
   ]
  },
  {
   "cell_type": "code",
   "execution_count": 1,
   "id": "93660898-6581-47a2-a1f7-ff40c741cf68",
   "metadata": {},
   "outputs": [],
   "source": [
    "import sys\n",
    "sys.path.append(\"../..\")\n",
    "\n",
    "from classes.genetic_algorithm import GeneticAlgorithm\n",
    "from graph_coloring.classes.gc_ruleset import GCRuleset\n",
    "from graph_coloring.classes.gc_random_init_strategy import GCRandomInitStrategy"
   ]
  },
  {
   "cell_type": "markdown",
   "id": "5e79effb-32f6-491f-88e1-09f54a1bdb36",
   "metadata": {},
   "source": [
    "To begin, we will define a function that generates a cycle on a provided number of vertices."
   ]
  },
  {
   "cell_type": "code",
   "execution_count": 2,
   "id": "5e9ef546-64ff-4c16-a1bf-6f7a0b8c2dd6",
   "metadata": {},
   "outputs": [],
   "source": [
    "def generate_cycle(num_vertices):\n",
    "    \"\"\"\n",
    "    Generates a cycle with the provided number of vertices.\n",
    "    \n",
    "    Parameters:\n",
    "        num_vertices (int): Number of vertices to generate for this cycle.\n",
    "        \n",
    "    Returns:\n",
    "        A cycle on the provided number of vertices.\n",
    "    \"\"\"\n",
    "    cycle = []\n",
    "    for vtx in range(num_vertices):\n",
    "        # Set previous vertex (vtx - 1) with the special case for vertex 0\n",
    "        prev_vtx = num_vertices - 1 if vtx == 0 else vtx - 1\n",
    "        \n",
    "        # Set the next vertex (vtx + 1) and account for the special case of the last vertex\n",
    "        next_vtx = (vtx + 1) % num_vertices\n",
    "        \n",
    "        # Append the node\n",
    "        cycle.append({\"color\": 0, \"adj\": [prev_vtx, next_vtx]})\n",
    "    \n",
    "    return cycle"
   ]
  },
  {
   "cell_type": "markdown",
   "id": "701a14dc-0412-45ab-b741-9e4780059b99",
   "metadata": {},
   "source": [
    "Next, we need to create a new `GeneticAlgorithm` object. Note that the constructor for this object takes a multitude of parameters by name, so let's format it nicely for future changes.\n",
    "\n",
    "Most of the parameters, like population size and fitness, are optional. The only mandatory parameters are `ruleset`, `random_on_init_strategy`, and `strat_data`. The former is the ruleset for the game being tested. The latter two define how each member of the population receives a random strategy to play with.\n",
    "\n",
    "The only two aspects of the genetic algorithm we are concerned with at this time are the number of nodes in the cycle and the number of colors in the game, so let us define a function to streamline this process for the rest of this notebook."
   ]
  },
  {
   "cell_type": "code",
   "execution_count": 20,
   "id": "46700792-f460-42d4-b185-e0d8c471109e",
   "metadata": {},
   "outputs": [],
   "source": [
    "def cycle_test(num_vertices, num_colors):\n",
    "    \"\"\"\n",
    "    Runs an evolutionary algorithm on a cycle graph with the provided number of vertices and colors.\n",
    "    \n",
    "    Parameters:\n",
    "        num_vertices (int): Order of the cycle.\n",
    "        num_colors (int): Number of colors for this game.\n",
    "        \n",
    "    Returns:\n",
    "        Two populations of players, after evolution.\n",
    "    \"\"\"\n",
    "    # Define a cycle to play on\n",
    "    initial_state = generate_cycle(num_vertices)\n",
    "\n",
    "    # Ruleset of the game being played on\n",
    "    ruleset = GCRuleset(\"Graph Coloring Ruleset\", initial_state, bounds = num_colors)\n",
    "\n",
    "    # Create a new Evolution instance with the example strategy\n",
    "    gen_algo = GeneticAlgorithm(\n",
    "        ruleset,\n",
    "        # Random-on-initialization strategy for generating populations of random players\n",
    "        random_on_init_strat = GCRandomInitStrategy,\n",
    "        # Data to be used by the above strategy\n",
    "        strat_data = {\"vertices\": range(len(ruleset.initial_state)), \"colors\": range(1, ruleset.bounds + 1)},\n",
    "        # Size of the populations\n",
    "        pop_size = 100,\n",
    "        # Number of generations to iterate through\n",
    "        iterations = 10,\n",
    "        # Minimum number of games each player must play during a generation\n",
    "        num_games = 10,\n",
    "        # Starting fitness threshold\n",
    "        fitness = 0.5,\n",
    "        # Maximum fitness threshold; be careful of setting this too close to 1.0\n",
    "        max_fitness = 0.9,\n",
    "        # How much the fitness threshold should increment after each iteration\n",
    "        fitness_increment = 0.025,\n",
    "        # Chance of a mutation to occur during player reproduction\n",
    "        mutation_rate = 0.025\n",
    "    )\n",
    "\n",
    "    p1_pop, p2_pop = gen_algo.evolve(to_df=True)\n",
    "    \n",
    "    return p1_pop, p2_pop"
   ]
  },
  {
   "cell_type": "markdown",
   "id": "a0d5f499-81b2-4b6b-99f8-800a1de6c8d3",
   "metadata": {},
   "source": [
    "## Even Cycles"
   ]
  },
  {
   "cell_type": "markdown",
   "id": "20950a45-a332-4cf5-b7ab-93a941fc68a0",
   "metadata": {},
   "source": [
    "Now we simply call our function. We will begin with a cycle of order 6 and 3 colors."
   ]
  },
  {
   "cell_type": "code",
   "execution_count": 22,
   "id": "dfaf3466-1b68-4218-ac01-4916336cd9a9",
   "metadata": {},
   "outputs": [],
   "source": [
    "p1_pop, p2_pop = cycle_test(num_vertices=6, num_colors=3)"
   ]
  },
  {
   "cell_type": "markdown",
   "id": "b15742b5-cc8c-44fc-8d0c-379ee6ac6f8f",
   "metadata": {},
   "source": [
    "Once our populations have finished evolving, we can view each of them to see the top players in each."
   ]
  },
  {
   "cell_type": "code",
   "execution_count": 23,
   "id": "2769bbe4-c550-4736-9cbd-e6d95321a554",
   "metadata": {},
   "outputs": [
    {
     "data": {
      "text/html": [
       "<div>\n",
       "<style scoped>\n",
       "    .dataframe tbody tr th:only-of-type {\n",
       "        vertical-align: middle;\n",
       "    }\n",
       "\n",
       "    .dataframe tbody tr th {\n",
       "        vertical-align: top;\n",
       "    }\n",
       "\n",
       "    .dataframe thead th {\n",
       "        text-align: right;\n",
       "    }\n",
       "</style>\n",
       "<table border=\"1\" class=\"dataframe\">\n",
       "  <thead>\n",
       "    <tr style=\"text-align: right;\">\n",
       "      <th></th>\n",
       "      <th>Name</th>\n",
       "      <th>Gen</th>\n",
       "      <th>Vertices</th>\n",
       "      <th>Colors</th>\n",
       "      <th>Fitness</th>\n",
       "      <th>Wins</th>\n",
       "      <th>Losses</th>\n",
       "    </tr>\n",
       "  </thead>\n",
       "  <tbody>\n",
       "    <tr>\n",
       "      <th>2</th>\n",
       "      <td>Player 1</td>\n",
       "      <td>0</td>\n",
       "      <td>[0, 2, 5, 1, 3, 4]</td>\n",
       "      <td>[3, 2, 1]</td>\n",
       "      <td>1.0</td>\n",
       "      <td>222</td>\n",
       "      <td>0</td>\n",
       "    </tr>\n",
       "    <tr>\n",
       "      <th>15</th>\n",
       "      <td>Player 1</td>\n",
       "      <td>0</td>\n",
       "      <td>[2, 4, 1, 3, 0, 5]</td>\n",
       "      <td>[2, 1, 3]</td>\n",
       "      <td>1.0</td>\n",
       "      <td>220</td>\n",
       "      <td>0</td>\n",
       "    </tr>\n",
       "    <tr>\n",
       "      <th>34</th>\n",
       "      <td>Player 1</td>\n",
       "      <td>0</td>\n",
       "      <td>[2, 1, 5, 0, 4, 3]</td>\n",
       "      <td>[2, 3, 1]</td>\n",
       "      <td>1.0</td>\n",
       "      <td>220</td>\n",
       "      <td>0</td>\n",
       "    </tr>\n",
       "    <tr>\n",
       "      <th>22</th>\n",
       "      <td>Player 1</td>\n",
       "      <td>0</td>\n",
       "      <td>[1, 2, 4, 0, 5, 3]</td>\n",
       "      <td>[2, 3, 1]</td>\n",
       "      <td>1.0</td>\n",
       "      <td>218</td>\n",
       "      <td>0</td>\n",
       "    </tr>\n",
       "    <tr>\n",
       "      <th>67</th>\n",
       "      <td>Player 1</td>\n",
       "      <td>0</td>\n",
       "      <td>[1, 3, 4, 0, 5, 2]</td>\n",
       "      <td>[1, 3, 2]</td>\n",
       "      <td>1.0</td>\n",
       "      <td>217</td>\n",
       "      <td>0</td>\n",
       "    </tr>\n",
       "  </tbody>\n",
       "</table>\n",
       "</div>"
      ],
      "text/plain": [
       "        Name Gen            Vertices     Colors  Fitness Wins Losses\n",
       "2   Player 1   0  [0, 2, 5, 1, 3, 4]  [3, 2, 1]      1.0  222      0\n",
       "15  Player 1   0  [2, 4, 1, 3, 0, 5]  [2, 1, 3]      1.0  220      0\n",
       "34  Player 1   0  [2, 1, 5, 0, 4, 3]  [2, 3, 1]      1.0  220      0\n",
       "22  Player 1   0  [1, 2, 4, 0, 5, 3]  [2, 3, 1]      1.0  218      0\n",
       "67  Player 1   0  [1, 3, 4, 0, 5, 2]  [1, 3, 2]      1.0  217      0"
      ]
     },
     "execution_count": 23,
     "metadata": {},
     "output_type": "execute_result"
    }
   ],
   "source": [
    "p1_pop.head()"
   ]
  },
  {
   "cell_type": "code",
   "execution_count": 24,
   "id": "31f1746e-1272-4ea6-abf5-a90734dfcf3a",
   "metadata": {},
   "outputs": [
    {
     "data": {
      "text/html": [
       "<div>\n",
       "<style scoped>\n",
       "    .dataframe tbody tr th:only-of-type {\n",
       "        vertical-align: middle;\n",
       "    }\n",
       "\n",
       "    .dataframe tbody tr th {\n",
       "        vertical-align: top;\n",
       "    }\n",
       "\n",
       "    .dataframe thead th {\n",
       "        text-align: right;\n",
       "    }\n",
       "</style>\n",
       "<table border=\"1\" class=\"dataframe\">\n",
       "  <thead>\n",
       "    <tr style=\"text-align: right;\">\n",
       "      <th></th>\n",
       "      <th>Name</th>\n",
       "      <th>Gen</th>\n",
       "      <th>Vertices</th>\n",
       "      <th>Colors</th>\n",
       "      <th>Fitness</th>\n",
       "      <th>Wins</th>\n",
       "      <th>Losses</th>\n",
       "    </tr>\n",
       "  </thead>\n",
       "  <tbody>\n",
       "    <tr>\n",
       "      <th>0</th>\n",
       "      <td>Player 2</td>\n",
       "      <td>0</td>\n",
       "      <td>[3, 0, 1, 2, 4, 5]</td>\n",
       "      <td>[1, 2, 3]</td>\n",
       "      <td>0.0</td>\n",
       "      <td>0</td>\n",
       "      <td>0</td>\n",
       "    </tr>\n",
       "    <tr>\n",
       "      <th>1</th>\n",
       "      <td>Player 2</td>\n",
       "      <td>0</td>\n",
       "      <td>[4, 0, 2, 1, 3, 5]</td>\n",
       "      <td>[2, 3, 1]</td>\n",
       "      <td>0.0</td>\n",
       "      <td>0</td>\n",
       "      <td>0</td>\n",
       "    </tr>\n",
       "    <tr>\n",
       "      <th>2</th>\n",
       "      <td>Player 2</td>\n",
       "      <td>0</td>\n",
       "      <td>[3, 2, 4, 5, 0, 1]</td>\n",
       "      <td>[2, 3, 1]</td>\n",
       "      <td>0.0</td>\n",
       "      <td>0</td>\n",
       "      <td>0</td>\n",
       "    </tr>\n",
       "    <tr>\n",
       "      <th>3</th>\n",
       "      <td>Player 2</td>\n",
       "      <td>0</td>\n",
       "      <td>[2, 4, 3, 0, 1, 5]</td>\n",
       "      <td>[3, 1, 2]</td>\n",
       "      <td>0.0</td>\n",
       "      <td>0</td>\n",
       "      <td>0</td>\n",
       "    </tr>\n",
       "    <tr>\n",
       "      <th>4</th>\n",
       "      <td>Player 2</td>\n",
       "      <td>0</td>\n",
       "      <td>[3, 1, 2, 0, 4, 5]</td>\n",
       "      <td>[2, 3, 1]</td>\n",
       "      <td>0.0</td>\n",
       "      <td>0</td>\n",
       "      <td>0</td>\n",
       "    </tr>\n",
       "  </tbody>\n",
       "</table>\n",
       "</div>"
      ],
      "text/plain": [
       "       Name Gen            Vertices     Colors  Fitness Wins Losses\n",
       "0  Player 2   0  [3, 0, 1, 2, 4, 5]  [1, 2, 3]      0.0    0      0\n",
       "1  Player 2   0  [4, 0, 2, 1, 3, 5]  [2, 3, 1]      0.0    0      0\n",
       "2  Player 2   0  [3, 2, 4, 5, 0, 1]  [2, 3, 1]      0.0    0      0\n",
       "3  Player 2   0  [2, 4, 3, 0, 1, 5]  [3, 1, 2]      0.0    0      0\n",
       "4  Player 2   0  [3, 1, 2, 0, 4, 5]  [2, 3, 1]      0.0    0      0"
      ]
     },
     "execution_count": 24,
     "metadata": {},
     "output_type": "execute_result"
    }
   ],
   "source": [
    "p2_pop.head()"
   ]
  },
  {
   "cell_type": "markdown",
   "id": "6d88a6c4-ef46-4944-8d58-86323090eb81",
   "metadata": {},
   "source": [
    "It appears that with 3 colors, player 1 can be guaranteed to win 100% of the time on a cycle of order 6. Let us test this again on a graph of 8 vertices."
   ]
  },
  {
   "cell_type": "code",
   "execution_count": 27,
   "id": "cbdfce3c-d238-40a9-acad-ec6b4b4a773f",
   "metadata": {},
   "outputs": [
    {
     "name": "stdout",
     "output_type": "stream",
     "text": [
      "        Name Gen                  Vertices     Colors  Fitness Wins Losses\n",
      "80  Player 1   0  [4, 6, 1, 7, 3, 2, 0, 5]  [3, 1, 2]      1.0  222      0\n",
      "24  Player 1   0  [2, 3, 1, 4, 6, 5, 0, 7]  [1, 3, 2]      1.0  219      0\n",
      "84  Player 1   0  [5, 2, 4, 3, 1, 6, 0, 7]  [1, 3, 2]      1.0  219      0\n",
      "17  Player 1   0  [6, 4, 7, 5, 1, 3, 0, 2]  [1, 2, 3]      1.0  218      0\n",
      "83  Player 1   0  [3, 1, 5, 4, 0, 6, 7, 2]  [2, 3, 1]      1.0  218      0\n",
      "       Name Gen                  Vertices     Colors  Fitness Wins Losses\n",
      "0  Player 2   0  [1, 4, 7, 3, 2, 5, 0, 6]  [1, 2, 3]      0.0    0      0\n",
      "1  Player 2   0  [6, 0, 4, 3, 5, 1, 2, 7]  [2, 1, 3]      0.0    0      0\n",
      "2  Player 2   0  [6, 7, 4, 0, 3, 2, 5, 1]  [2, 3, 1]      0.0    0      0\n",
      "3  Player 2   0  [1, 4, 6, 2, 7, 3, 5, 0]  [1, 3, 2]      0.0    0      0\n",
      "4  Player 2   0  [5, 3, 7, 1, 2, 6, 4, 0]  [2, 1, 3]      0.0    0      0\n"
     ]
    }
   ],
   "source": [
    "p1_pop, p2_pop = cycle_test(num_vertices=8, num_colors=3)\n",
    "print(p1_pop.head())\n",
    "print(p2_pop.head())"
   ]
  },
  {
   "cell_type": "markdown",
   "id": "82158f7b-cd62-4e15-a984-9f04f1a37a86",
   "metadata": {},
   "source": [
    "Again we see 100% victory in the player 1 population. Let us try on some arbitrary cycle sizes."
   ]
  },
  {
   "cell_type": "code",
   "execution_count": 31,
   "id": "eca86e07-88a2-4268-aff0-657166b6bd92",
   "metadata": {},
   "outputs": [
    {
     "name": "stdout",
     "output_type": "stream",
     "text": [
      "\n",
      "Testing on cycle of order 100\n",
      "        Name Gen                  Vertices     Colors  Fitness Wins Losses\n",
      "57  Player 1   0  [5, 7, 2, 6, 4, 0, 3, 1]  [2, 3, 1]      1.0  219      0\n",
      "37  Player 1   0  [7, 6, 3, 2, 0, 4, 1, 5]  [2, 3, 1]      1.0  218      0\n",
      "90  Player 1   0  [1, 4, 0, 6, 5, 7, 3, 2]  [3, 2, 1]      1.0  217      0\n",
      "24  Player 1   0  [6, 3, 7, 5, 1, 0, 2, 4]  [3, 1, 2]      1.0  216      0\n",
      "46  Player 1   0  [0, 5, 2, 6, 4, 7, 1, 3]  [3, 2, 1]      1.0  216      0\n",
      "       Name Gen                  Vertices     Colors  Fitness Wins Losses\n",
      "0  Player 2   0  [2, 3, 6, 1, 0, 7, 5, 4]  [1, 3, 2]      0.0    0      0\n",
      "1  Player 2   0  [1, 5, 4, 0, 7, 6, 2, 3]  [2, 1, 3]      0.0    0      0\n",
      "2  Player 2   0  [4, 2, 7, 6, 3, 0, 5, 1]  [2, 1, 3]      0.0    0      0\n",
      "3  Player 2   0  [7, 0, 4, 5, 2, 1, 6, 3]  [3, 2, 1]      0.0    0      0\n",
      "4  Player 2   0  [6, 1, 0, 3, 4, 5, 7, 2]  [1, 2, 3]      0.0    0      0\n",
      "\n",
      "Testing on cycle of order 412\n",
      "        Name Gen                  Vertices     Colors  Fitness Wins Losses\n",
      "51  Player 1   0  [1, 6, 5, 0, 3, 7, 4, 2]  [2, 1, 3]      1.0  221      0\n",
      "41  Player 1   0  [6, 0, 5, 2, 4, 1, 7, 3]  [3, 2, 1]      1.0  220      0\n",
      "45  Player 1   0  [3, 6, 2, 5, 7, 1, 4, 0]  [1, 2, 3]      1.0  220      0\n",
      "14  Player 1   0  [2, 4, 7, 5, 0, 1, 3, 6]  [2, 3, 1]      1.0  217      0\n",
      "57  Player 1   0  [2, 5, 3, 0, 1, 4, 7, 6]  [2, 3, 1]      1.0  217      0\n",
      "       Name Gen                  Vertices     Colors  Fitness Wins Losses\n",
      "0  Player 2   0  [3, 0, 1, 5, 7, 4, 6, 2]  [2, 3, 1]      0.0    0      0\n",
      "1  Player 2   0  [6, 5, 2, 1, 4, 3, 0, 7]  [3, 2, 1]      0.0    0      0\n",
      "2  Player 2   0  [0, 4, 1, 5, 7, 3, 2, 6]  [2, 3, 1]      0.0    0      0\n",
      "3  Player 2   0  [7, 5, 4, 0, 6, 2, 1, 3]  [1, 2, 3]      0.0    0      0\n",
      "4  Player 2   0  [0, 3, 7, 4, 6, 2, 5, 1]  [1, 3, 2]      0.0    0      0\n",
      "\n",
      "Testing on cycle of order 876\n",
      "        Name Gen                  Vertices     Colors  Fitness Wins Losses\n",
      "19  Player 1   0  [7, 6, 5, 3, 0, 1, 2, 4]  [1, 2, 3]      1.0  225      0\n",
      "61  Player 1   0  [5, 3, 4, 0, 7, 6, 1, 2]  [1, 3, 2]      1.0  225      0\n",
      "2   Player 1   0  [0, 4, 5, 7, 3, 2, 6, 1]  [1, 3, 2]      1.0  219      0\n",
      "10  Player 1   0  [0, 6, 3, 1, 7, 2, 4, 5]  [3, 1, 2]      1.0  218      0\n",
      "83  Player 1   0  [5, 1, 4, 2, 0, 6, 3, 7]  [3, 2, 1]      1.0  217      0\n",
      "       Name Gen                  Vertices     Colors  Fitness Wins Losses\n",
      "0  Player 2   0  [3, 1, 2, 6, 4, 0, 5, 7]  [1, 3, 2]      0.0    0      0\n",
      "1  Player 2   0  [5, 2, 3, 0, 6, 4, 7, 1]  [1, 3, 2]      0.0    0      0\n",
      "2  Player 2   0  [5, 7, 0, 3, 4, 1, 6, 2]  [3, 1, 2]      0.0    0      0\n",
      "3  Player 2   0  [0, 7, 3, 4, 5, 1, 6, 2]  [3, 2, 1]      0.0    0      0\n",
      "4  Player 2   0  [6, 3, 1, 5, 0, 4, 7, 2]  [1, 3, 2]      0.0    0      0\n",
      "\n",
      "Testing on cycle of order 1492\n",
      "        Name Gen                  Vertices     Colors  Fitness Wins Losses\n",
      "63  Player 1   0  [5, 1, 6, 3, 7, 0, 2, 4]  [2, 3, 1]      1.0  220      0\n",
      "52  Player 1   0  [6, 5, 1, 3, 7, 0, 4, 2]  [2, 1, 3]      1.0  218      0\n",
      "76  Player 1   0  [0, 7, 2, 3, 6, 5, 4, 1]  [3, 1, 2]      1.0  217      0\n",
      "88  Player 1   0  [2, 7, 4, 0, 1, 6, 5, 3]  [3, 1, 2]      1.0  217      0\n",
      "95  Player 1   0  [3, 2, 7, 0, 1, 5, 4, 6]  [1, 2, 3]      1.0  217      0\n",
      "       Name Gen                  Vertices     Colors  Fitness Wins Losses\n",
      "0  Player 2   0  [7, 0, 3, 4, 6, 2, 1, 5]  [3, 1, 2]      0.0    0      0\n",
      "1  Player 2   0  [6, 3, 2, 5, 4, 7, 1, 0]  [3, 2, 1]      0.0    0      0\n",
      "2  Player 2   0  [7, 0, 6, 5, 2, 1, 3, 4]  [1, 3, 2]      0.0    0      0\n",
      "3  Player 2   0  [5, 1, 3, 4, 2, 6, 0, 7]  [3, 1, 2]      0.0    0      0\n",
      "4  Player 2   0  [7, 0, 6, 4, 1, 5, 2, 3]  [2, 1, 3]      0.0    0      0\n",
      "\n",
      "Testing on cycle of order 10574\n",
      "        Name Gen                  Vertices     Colors  Fitness Wins Losses\n",
      "75  Player 1   0  [6, 0, 3, 2, 1, 5, 7, 4]  [3, 2, 1]      1.0  218      0\n",
      "45  Player 1   0  [5, 4, 6, 7, 1, 0, 3, 2]  [1, 3, 2]      1.0  217      0\n",
      "53  Player 1   0  [0, 6, 7, 4, 3, 1, 5, 2]  [3, 1, 2]      1.0  217      0\n",
      "5   Player 1   0  [5, 4, 2, 1, 7, 0, 3, 6]  [3, 1, 2]      1.0  214      0\n",
      "47  Player 1   0  [7, 5, 1, 0, 2, 4, 6, 3]  [1, 2, 3]      1.0  214      0\n",
      "       Name Gen                  Vertices     Colors  Fitness Wins Losses\n",
      "0  Player 2   0  [3, 4, 1, 5, 7, 0, 6, 2]  [3, 1, 2]      0.0    0      0\n",
      "1  Player 2   0  [5, 6, 4, 1, 2, 7, 3, 0]  [3, 2, 1]      0.0    0      0\n",
      "2  Player 2   0  [2, 0, 6, 4, 1, 3, 7, 5]  [3, 2, 1]      0.0    0      0\n",
      "3  Player 2   0  [0, 4, 3, 2, 7, 6, 5, 1]  [2, 3, 1]      0.0    0      0\n",
      "4  Player 2   0  [1, 7, 5, 4, 2, 0, 6, 3]  [1, 2, 3]      0.0    0      0\n"
     ]
    }
   ],
   "source": [
    "for order in [100, 412, 876, 1492, 10574]:\n",
    "    print(\"\\nTesting on cycle of order \" + str(order))\n",
    "    p1_pop, p2_pop = cycle_test(num_vertices=8, num_colors=3)\n",
    "    print(p1_pop.head())\n",
    "    print(p2_pop.head())"
   ]
  },
  {
   "cell_type": "markdown",
   "id": "f50de2a5-327d-4356-8266-f8294fa71ad2",
   "metadata": {},
   "source": [
    "While this is not as thorough as a mathematical proof, it is clear that player 1 can have a 100% success rate on an even cycle with 3 colors. Now we will focus our attention to odd cycles."
   ]
  },
  {
   "cell_type": "markdown",
   "id": "89d6ccf1-3a4e-47f1-8070-cdee55a85e3f",
   "metadata": {},
   "source": [
    "## Odd Cycles"
   ]
  },
  {
   "cell_type": "code",
   "execution_count": 34,
   "id": "3dce349d-ed14-4e2a-be9f-4981f0e03601",
   "metadata": {},
   "outputs": [
    {
     "name": "stdout",
     "output_type": "stream",
     "text": [
      "        Name Gen                     Vertices     Colors  Fitness Wins Losses\n",
      "20  Player 1   0  [5, 1, 2, 8, 0, 3, 4, 7, 6]  [3, 2, 1]      1.0  224      0\n",
      "57  Player 1   0  [1, 8, 2, 4, 5, 7, 0, 6, 3]  [2, 1, 3]      1.0  223      0\n",
      "68  Player 1   0  [1, 5, 4, 8, 2, 3, 6, 7, 0]  [1, 2, 3]      1.0  221      0\n",
      "99  Player 1   0  [0, 8, 5, 1, 3, 6, 4, 7, 2]  [3, 1, 2]      1.0  221      0\n",
      "82  Player 1   0  [8, 2, 7, 6, 0, 4, 5, 3, 1]  [3, 1, 2]      1.0  219      0\n",
      "       Name Gen                     Vertices     Colors  Fitness Wins Losses\n",
      "0  Player 2   0  [7, 6, 2, 4, 3, 1, 0, 8, 5]  [1, 2, 3]      0.0    0      0\n",
      "1  Player 2   0  [0, 4, 2, 1, 3, 6, 7, 5, 8]  [1, 3, 2]      0.0    0      0\n",
      "2  Player 2   0  [6, 7, 4, 2, 3, 5, 1, 8, 0]  [2, 1, 3]      0.0    0      0\n",
      "3  Player 2   0  [5, 3, 2, 0, 1, 6, 8, 4, 7]  [1, 3, 2]      0.0    0      0\n",
      "4  Player 2   0  [3, 7, 1, 2, 8, 4, 0, 5, 6]  [2, 1, 3]      0.0    0      0\n"
     ]
    }
   ],
   "source": [
    "p1_pop, p2_pop = cycle_test(num_vertices=9, num_colors=3)\n",
    "print(p1_pop.head())\n",
    "print(p2_pop.head())"
   ]
  },
  {
   "cell_type": "markdown",
   "id": "bf651603-7f99-4774-96ce-5baebe318407",
   "metadata": {},
   "source": [
    "Again we see expected behavior. On an odd cycle, player 1 is winning 100% of the time with 3 colors. Let us test this again on a variety of random graphs."
   ]
  },
  {
   "cell_type": "code",
   "execution_count": 35,
   "id": "e3ccd461-29b5-4115-bb7d-f2a918c8a9bc",
   "metadata": {},
   "outputs": [
    {
     "name": "stdout",
     "output_type": "stream",
     "text": [
      "\n",
      "Testing on cycle of order 103\n",
      "        Name Gen                  Vertices     Colors  Fitness Wins Losses\n",
      "20  Player 1   0  [4, 7, 5, 0, 1, 3, 6, 2]  [1, 3, 2]      1.0  226      0\n",
      "27  Player 1   0  [4, 5, 7, 2, 6, 1, 3, 0]  [3, 2, 1]      1.0  222      0\n",
      "19  Player 1   0  [2, 1, 7, 5, 0, 6, 3, 4]  [1, 3, 2]      1.0  219      0\n",
      "97  Player 1   0  [7, 4, 2, 6, 1, 3, 5, 0]  [3, 2, 1]      1.0  217      0\n",
      "52  Player 1   0  [1, 6, 5, 2, 7, 3, 4, 0]  [1, 2, 3]      1.0  215      0\n",
      "       Name Gen                  Vertices     Colors  Fitness Wins Losses\n",
      "0  Player 2   0  [1, 4, 5, 3, 0, 7, 2, 6]  [3, 1, 2]      0.0    0      0\n",
      "1  Player 2   0  [0, 6, 3, 7, 5, 1, 4, 2]  [3, 2, 1]      0.0    0      0\n",
      "2  Player 2   0  [0, 7, 5, 6, 4, 2, 1, 3]  [2, 1, 3]      0.0    0      0\n",
      "3  Player 2   0  [2, 1, 0, 3, 5, 7, 4, 6]  [2, 1, 3]      0.0    0      0\n",
      "4  Player 2   0  [0, 1, 5, 2, 7, 6, 4, 3]  [3, 1, 2]      0.0    0      0\n",
      "\n",
      "Testing on cycle of order 415\n",
      "        Name Gen                  Vertices     Colors  Fitness Wins Losses\n",
      "6   Player 1   0  [2, 7, 1, 6, 4, 3, 5, 0]  [3, 1, 2]      1.0  224      0\n",
      "47  Player 1   0  [6, 2, 5, 7, 4, 1, 0, 3]  [2, 3, 1]      1.0  220      0\n",
      "75  Player 1   0  [5, 4, 3, 1, 6, 0, 7, 2]  [1, 2, 3]      1.0  217      0\n",
      "14  Player 1   0  [3, 5, 6, 0, 4, 7, 1, 2]  [1, 2, 3]      1.0  216      0\n",
      "59  Player 1   0  [3, 4, 7, 6, 5, 0, 2, 1]  [1, 3, 2]      1.0  215      0\n",
      "       Name Gen                  Vertices     Colors  Fitness Wins Losses\n",
      "0  Player 2   0  [0, 7, 5, 1, 3, 2, 6, 4]  [1, 3, 2]      0.0    0      0\n",
      "1  Player 2   0  [0, 7, 5, 3, 6, 1, 2, 4]  [3, 1, 2]      0.0    0      0\n",
      "2  Player 2   0  [4, 6, 3, 7, 5, 0, 2, 1]  [2, 1, 3]      0.0    0      0\n",
      "3  Player 2   0  [7, 1, 4, 5, 0, 6, 2, 3]  [1, 3, 2]      0.0    0      0\n",
      "4  Player 2   0  [5, 4, 1, 7, 0, 6, 3, 2]  [3, 2, 1]      0.0    0      0\n",
      "\n",
      "Testing on cycle of order 879\n",
      "        Name Gen                  Vertices     Colors  Fitness Wins Losses\n",
      "66  Player 1   0  [4, 1, 6, 7, 2, 5, 0, 3]  [3, 1, 2]      1.0  235      0\n",
      "23  Player 1   0  [4, 6, 3, 0, 7, 2, 1, 5]  [3, 1, 2]      1.0  222      0\n",
      "44  Player 1   0  [0, 6, 5, 2, 1, 3, 7, 4]  [2, 3, 1]      1.0  216      0\n",
      "53  Player 1   0  [7, 2, 3, 5, 4, 1, 0, 6]  [1, 3, 2]      1.0  216      0\n",
      "95  Player 1   0  [1, 4, 7, 0, 5, 2, 6, 3]  [1, 2, 3]      1.0  215      0\n",
      "       Name Gen                  Vertices     Colors  Fitness Wins Losses\n",
      "0  Player 2   0  [6, 4, 3, 5, 2, 0, 1, 7]  [2, 1, 3]      0.0    0      0\n",
      "1  Player 2   0  [6, 7, 3, 0, 1, 2, 4, 5]  [3, 2, 1]      0.0    0      0\n",
      "2  Player 2   0  [6, 4, 0, 5, 1, 2, 7, 3]  [1, 3, 2]      0.0    0      0\n",
      "3  Player 2   0  [5, 7, 0, 1, 3, 6, 4, 2]  [2, 3, 1]      0.0    0      0\n",
      "4  Player 2   0  [1, 2, 0, 3, 7, 6, 5, 4]  [2, 3, 1]      0.0    0      0\n",
      "\n",
      "Testing on cycle of order 1495\n",
      "        Name Gen                  Vertices     Colors  Fitness Wins Losses\n",
      "74  Player 1   0  [3, 0, 5, 2, 7, 1, 4, 6]  [3, 2, 1]      1.0  233      0\n",
      "8   Player 1   0  [7, 1, 6, 4, 2, 5, 3, 0]  [1, 3, 2]      1.0  224      0\n",
      "49  Player 1   0  [7, 2, 6, 0, 1, 4, 5, 3]  [3, 2, 1]      1.0  221      0\n",
      "22  Player 1   0  [1, 7, 4, 2, 0, 3, 5, 6]  [2, 1, 3]      1.0  216      0\n",
      "72  Player 1   0  [0, 1, 7, 6, 3, 2, 4, 5]  [3, 1, 2]      1.0  215      0\n",
      "       Name Gen                  Vertices     Colors  Fitness Wins Losses\n",
      "0  Player 2   0  [1, 5, 6, 2, 4, 3, 7, 0]  [3, 1, 2]      0.0    0      0\n",
      "1  Player 2   0  [5, 3, 7, 2, 1, 4, 0, 6]  [1, 2, 3]      0.0    0      0\n",
      "2  Player 2   0  [4, 3, 0, 5, 7, 1, 6, 2]  [3, 1, 2]      0.0    0      0\n",
      "3  Player 2   0  [2, 1, 7, 0, 3, 6, 5, 4]  [2, 1, 3]      0.0    0      0\n",
      "4  Player 2   0  [2, 7, 4, 3, 0, 1, 5, 6]  [1, 2, 3]      0.0    0      0\n",
      "\n",
      "Testing on cycle of order 10571\n",
      "        Name Gen                  Vertices     Colors  Fitness Wins Losses\n",
      "93  Player 1   0  [4, 6, 3, 1, 5, 2, 7, 0]  [3, 1, 2]      1.0  232      0\n",
      "75  Player 1   0  [0, 3, 1, 6, 4, 2, 7, 5]  [2, 3, 1]      1.0  226      0\n",
      "26  Player 1   0  [4, 0, 5, 3, 6, 7, 1, 2]  [3, 2, 1]      1.0  219      0\n",
      "57  Player 1   0  [1, 5, 3, 7, 6, 2, 4, 0]  [1, 3, 2]      1.0  219      0\n",
      "38  Player 1   0  [4, 3, 5, 7, 6, 2, 0, 1]  [3, 1, 2]      1.0  214      0\n",
      "       Name Gen                  Vertices     Colors  Fitness Wins Losses\n",
      "0  Player 2   0  [6, 1, 7, 3, 4, 5, 0, 2]  [1, 2, 3]      0.0    0      0\n",
      "1  Player 2   0  [6, 4, 0, 2, 3, 5, 1, 7]  [1, 2, 3]      0.0    0      0\n",
      "2  Player 2   0  [5, 7, 4, 0, 3, 6, 1, 2]  [3, 2, 1]      0.0    0      0\n",
      "3  Player 2   0  [1, 7, 6, 4, 3, 2, 5, 0]  [1, 2, 3]      0.0    0      0\n",
      "4  Player 2   0  [7, 2, 4, 5, 1, 6, 3, 0]  [2, 3, 1]      0.0    0      0\n"
     ]
    }
   ],
   "source": [
    "for order in [103, 415, 879, 1495, 10571]:\n",
    "    print(\"\\nTesting on cycle of order \" + str(order))\n",
    "    p1_pop, p2_pop = cycle_test(num_vertices=8, num_colors=3)\n",
    "    print(p1_pop.head())\n",
    "    print(p2_pop.head())"
   ]
  },
  {
   "cell_type": "markdown",
   "id": "a44dc597-62e9-478d-a6fa-43b4e4604a44",
   "metadata": {},
   "source": [
    "As expected, we see a clear 100% win rate for player 1 on odd cycles. This is, again, an expected result."
   ]
  },
  {
   "cell_type": "markdown",
   "id": "02258c00-3fda-4b28-b95a-8af535a89d20",
   "metadata": {},
   "source": [
    "## Conclusion"
   ]
  },
  {
   "cell_type": "markdown",
   "id": "1a5063c7-f2e6-4f97-8106-e7614fb2ca40",
   "metadata": {},
   "source": [
    "From the experiments listed above, it is clear that player 1 wins 100% of the time on various cycles. It is known that cycles have a competitive coloring number of 3, and our results support this."
   ]
  },
  {
   "cell_type": "code",
   "execution_count": null,
   "id": "83946b5f-05a2-423f-8d7a-ef14302fd164",
   "metadata": {},
   "outputs": [],
   "source": []
  }
 ],
 "metadata": {
  "kernelspec": {
   "display_name": "Python 3",
   "language": "python",
   "name": "python3"
  },
  "language_info": {
   "codemirror_mode": {
    "name": "ipython",
    "version": 3
   },
   "file_extension": ".py",
   "mimetype": "text/x-python",
   "name": "python",
   "nbconvert_exporter": "python",
   "pygments_lexer": "ipython3",
   "version": "3.9.3"
  }
 },
 "nbformat": 4,
 "nbformat_minor": 5
}
