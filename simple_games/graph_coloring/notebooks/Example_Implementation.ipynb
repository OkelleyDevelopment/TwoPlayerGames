{
 "cells": [
  {
   "cell_type": "markdown",
   "metadata": {},
   "source": [
    "# Example Simulation Implementation\n",
    "-----"
   ]
  },
  {
   "cell_type": "markdown",
   "metadata": {},
   "source": [
    "This notebook showcases an example implementation of Two Player Graph Coloring."
   ]
  },
  {
   "cell_type": "markdown",
   "metadata": {},
   "source": [
    "# Table of Contents\n",
    "\n",
    "- [Dependencies](#Dependencies)\n",
    "- [Create a Game](#Create-the-Game)\n",
    "    - [Overall Process](#The-overall-process)\n",
    "    - [Sample Game](#Sample-Game)\n",
    "- [View the Data](#View-the-data)"
   ]
  },
  {
   "cell_type": "markdown",
   "metadata": {},
   "source": [
    "# Dependencies"
   ]
  },
  {
   "cell_type": "markdown",
   "metadata": {},
   "source": [
    "It may be necessary to change the interpreter's path to import the necessary files."
   ]
  },
  {
   "cell_type": "code",
   "execution_count": 1,
   "metadata": {},
   "outputs": [],
   "source": [
    "import sys\n",
    "sys.path.append(\"../..\")"
   ]
  },
  {
   "cell_type": "code",
   "execution_count": 2,
   "metadata": {},
   "outputs": [],
   "source": [
    "from classes.player import Player\n",
    "from classes.board import Board\n",
    "from classes.referee import Referee\n",
    "from classes.game import Game\n",
    "\n",
    "# Import the rulesets and strategy\n",
    "from graph_coloring.classes.gc_ruleset import GCRuleset\n",
    "from graph_coloring.classes.gc_simple_smart_strategy import GCSimpleSmartStrategy\n",
    "from graph_coloring.classes.gc_random_strategy import GCRandomStrategy\n",
    "from graph_coloring.classes.gc_data_strategy import GCDataStrategy"
   ]
  },
  {
   "cell_type": "markdown",
   "metadata": {},
   "source": [
    "# Create the Game"
   ]
  },
  {
   "cell_type": "markdown",
   "metadata": {},
   "source": [
    "### The overall process\n",
    "\n",
    "* Initiate the ruleset and strategy/strategies\n",
    "* Create both players\n",
    "* Initiate the board\n",
    "* Declare referee, with ruleset\n",
    "* Start the game\n",
    "* Collect game data"
   ]
  },
  {
   "cell_type": "markdown",
   "metadata": {},
   "source": [
    "The `initial_state` of the board needs to be a valid graph in the following format:\n",
    "```\n",
    "initial_state = [\n",
    "    {\"color\": 0, \"adj\": [<adjacent node indices>]},\n",
    "    {\"color\": 0, \"adj\": [<adjacent node indices>]},\n",
    "    ...\n",
    "]\n",
    "```"
   ]
  },
  {
   "cell_type": "markdown",
   "metadata": {},
   "source": [
    "## Sample Game"
   ]
  },
  {
   "cell_type": "code",
   "execution_count": 3,
   "metadata": {},
   "outputs": [],
   "source": [
    "initial_state = [\n",
    "    {\"color\": 0, \"adj\": [1, 3]},\n",
    "    {\"color\": 0, \"adj\": [0, 2, 3]},\n",
    "    {\"color\": 0, \"adj\": [1]},\n",
    "    {\"color\": 0, \"adj\": [0, 1]},\n",
    "]"
   ]
  },
  {
   "cell_type": "markdown",
   "metadata": {},
   "source": [
    "The `bounds` of the board is the number of available colors to choose from"
   ]
  },
  {
   "cell_type": "code",
   "execution_count": 4,
   "metadata": {},
   "outputs": [],
   "source": [
    "bounds = 3"
   ]
  },
  {
   "cell_type": "markdown",
   "metadata": {},
   "source": [
    "Supplying `data` to the `GCSmartStrategy` can define a vertex and color ordering to follow."
   ]
  },
  {
   "cell_type": "code",
   "execution_count": 5,
   "metadata": {},
   "outputs": [],
   "source": [
    "data = {\"vertices\": [1, 3, 0, 2], \"colors\": [1, 2, 3]}"
   ]
  },
  {
   "cell_type": "code",
   "execution_count": 6,
   "metadata": {},
   "outputs": [
    {
     "name": "stdout",
     "output_type": "stream",
     "text": [
      "player1 -> {'vertex': 3, 'color': 3}\n",
      "player2 -> {'vertex': 0, 'color': 2}\n",
      "player1 -> {'vertex': 2, 'color': 3}\n",
      "player2 -> {'vertex': 1, 'color': 1}\n",
      "Winner: player1\n"
     ]
    },
    {
     "data": {
      "text/plain": [
       "{\"[{'color': 0, 'adj': [1, 3]}, {'color': 0, 'adj': [0, 2, 3]}, {'color': 0, 'adj': [1]}, {'color': 0, 'adj': [0, 1]}]\": ('player1',\n",
       "  {'vertex': 3, 'color': 3}),\n",
       " \"[{'color': 0, 'adj': [1, 3]}, {'color': 0, 'adj': [0, 2, 3]}, {'color': 0, 'adj': [1]}, {'color': 3, 'adj': [0, 1]}]\": ('player2',\n",
       "  {'vertex': 0, 'color': 2}),\n",
       " \"[{'color': 2, 'adj': [1, 3]}, {'color': 0, 'adj': [0, 2, 3]}, {'color': 0, 'adj': [1]}, {'color': 3, 'adj': [0, 1]}]\": ('player1',\n",
       "  {'vertex': 2, 'color': 3}),\n",
       " \"[{'color': 2, 'adj': [1, 3]}, {'color': 0, 'adj': [0, 2, 3]}, {'color': 3, 'adj': [1]}, {'color': 3, 'adj': [0, 1]}]\": ('player2',\n",
       "  {'vertex': 1, 'color': 1}),\n",
       " 'winner': 'player1'}"
      ]
     },
     "execution_count": 6,
     "metadata": {},
     "output_type": "execute_result"
    }
   ],
   "source": [
    "ruleset =  GCRuleset(\"Graph Coloring Ruleset\", initial_state, bounds)\n",
    "smartrand_strategy = GCSimpleSmartStrategy(\"Simple Smart Strategy for Graph Coloring\")\n",
    "rand_strategy = GCRandomStrategy(\"Random Strategy for Graph Coloring\")\n",
    "smart_strategy = GCDataStrategy(\"Data Strategy for Graph Coloring\", data)\n",
    "\n",
    "p1 = Player(\"player1\", rand_strategy)\n",
    "p2 = Player(\"player2\", smartrand_strategy)\n",
    "\n",
    "board = Board(ruleset.initial_state, ruleset.bounds)\n",
    "\n",
    "ref = Referee(board, ruleset)\n",
    "\n",
    "game = Game(ref, board, [p1, p2])\n",
    "\n",
    "board = game.play(True)\n",
    "board.data"
   ]
  },
  {
   "cell_type": "markdown",
   "metadata": {},
   "source": [
    "# View the data"
   ]
  },
  {
   "cell_type": "markdown",
   "metadata": {},
   "source": [
    "The game's `play()` function returns the final state of the game board. To see game data, simply view the board's `data` field."
   ]
  },
  {
   "cell_type": "code",
   "execution_count": 7,
   "metadata": {},
   "outputs": [
    {
     "data": {
      "text/plain": [
       "{\"[{'color': 0, 'adj': [1, 3]}, {'color': 0, 'adj': [0, 2, 3]}, {'color': 0, 'adj': [1]}, {'color': 0, 'adj': [0, 1]}]\": ('player1',\n",
       "  {'vertex': 3, 'color': 3}),\n",
       " \"[{'color': 0, 'adj': [1, 3]}, {'color': 0, 'adj': [0, 2, 3]}, {'color': 0, 'adj': [1]}, {'color': 3, 'adj': [0, 1]}]\": ('player2',\n",
       "  {'vertex': 0, 'color': 2}),\n",
       " \"[{'color': 2, 'adj': [1, 3]}, {'color': 0, 'adj': [0, 2, 3]}, {'color': 0, 'adj': [1]}, {'color': 3, 'adj': [0, 1]}]\": ('player1',\n",
       "  {'vertex': 2, 'color': 3}),\n",
       " \"[{'color': 2, 'adj': [1, 3]}, {'color': 0, 'adj': [0, 2, 3]}, {'color': 3, 'adj': [1]}, {'color': 3, 'adj': [0, 1]}]\": ('player2',\n",
       "  {'vertex': 1, 'color': 1}),\n",
       " 'winner': 'player1'}"
      ]
     },
     "execution_count": 7,
     "metadata": {},
     "output_type": "execute_result"
    }
   ],
   "source": [
    "board.data"
   ]
  }
 ],
 "metadata": {
  "kernelspec": {
   "display_name": "Python 3",
   "language": "python",
   "name": "python3"
  },
  "language_info": {
   "codemirror_mode": {
    "name": "ipython",
    "version": 3
   },
   "file_extension": ".py",
   "mimetype": "text/x-python",
   "name": "python",
   "nbconvert_exporter": "python",
   "pygments_lexer": "ipython3",
   "version": "3.8.5"
  }
 },
 "nbformat": 4,
 "nbformat_minor": 4
}
