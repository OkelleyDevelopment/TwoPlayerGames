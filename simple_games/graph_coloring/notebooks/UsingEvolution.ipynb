{
 "cells": [
  {
   "cell_type": "markdown",
   "metadata": {},
   "source": [
    "# Graph Coloring Evolution"
   ]
  },
  {
   "cell_type": "markdown",
   "metadata": {},
   "source": [
    "In this notebook, we will demonstrate how to use our provided evolutionary code on the graph coloring game.\n",
    "\n",
    "As always, we will begin with our imports"
   ]
  },
  {
   "cell_type": "code",
   "execution_count": 1,
   "metadata": {},
   "outputs": [],
   "source": [
    "import sys\n",
    "sys.path.append(\"../..\")"
   ]
  },
  {
   "cell_type": "code",
   "execution_count": 2,
   "metadata": {},
   "outputs": [],
   "source": [
    "from classes.genetic_algorithm import GeneticAlgorithm\n",
    "\n",
    "# Import the rulesets and strategy\n",
    "from graph_coloring.classes.gc_ruleset import GCRuleset\n",
    "from graph_coloring.classes.gc_random_init_strategy import GCRandomInitStrategy"
   ]
  },
  {
   "cell_type": "markdown",
   "metadata": {},
   "source": [
    "To begin the process, we need a game ruleset and an example strategy. The ruleset is used to define how each game will be played, and the strategy is used as a reference when generating populations of players."
   ]
  },
  {
   "cell_type": "code",
   "execution_count": 3,
   "metadata": {},
   "outputs": [],
   "source": [
    "# Create a graph to play on\n",
    "initial_state = [\n",
    "    {\"color\": 0, \"adj\": [1, 2]},\n",
    "    {\"color\": 0, \"adj\": [0, 2, 3]},\n",
    "    {\"color\": 0, \"adj\": [0, 1, 3, 6]},\n",
    "    {\"color\": 0, \"adj\": [1, 2, 5]},\n",
    "    {\"color\": 0, \"adj\": [5]},\n",
    "    {\"color\": 0, \"adj\": [3, 4, 9]},\n",
    "    {\"color\": 0, \"adj\": [2, 7, 9]},\n",
    "    {\"color\": 0, \"adj\": [6, 8, 9]},\n",
    "    {\"color\": 0, \"adj\": [7]},\n",
    "    {\"color\": 0, \"adj\": [6, 7, 10]},\n",
    "    {\"color\": 0, \"adj\": [9]},\n",
    "]\n",
    "\n",
    "# Create our ruleset and strategy using the graph and bounds\n",
    "ruleset =  GCRuleset(\"Graph Coloring Ruleset\", initial_state, bounds=3)\n",
    "\n",
    "strat_data = {\"vertices\": range(len(ruleset.initial_state)), \"colors\": range(1, ruleset.bounds + 1)}"
   ]
  },
  {
   "cell_type": "markdown",
   "metadata": {},
   "source": [
    "Next, we need to create a new `Evolution` object and pass in our example strategy to its constructor. This allows the object to create populations of random players with valid and unique strategies.\n",
    "\n",
    "We could add more parameters to our `Evolution` object, but we will discuss those later."
   ]
  },
  {
   "cell_type": "code",
   "execution_count": 4,
   "metadata": {},
   "outputs": [],
   "source": [
    "# Create a new Evolution instance with the example strategy\n",
    "gen_algo = GeneticAlgorithm(\n",
    "    ruleset,\n",
    "    GCRandomInitStrategy,\n",
    "    strat_data,\n",
    "    pop_size = 100,\n",
    "    iterations = 10,\n",
    "    num_games = 10,\n",
    "    fitness = 0.5,\n",
    "    max_fitness = 0.9,\n",
    "    fitness_increment = 0.025,\n",
    "    mutation_rate = 0.025\n",
    ")"
   ]
  },
  {
   "cell_type": "markdown",
   "metadata": {},
   "source": [
    "Now, all that's left is to run the `evolve()` function and watch the results!"
   ]
  },
  {
   "cell_type": "code",
   "execution_count": 5,
   "metadata": {},
   "outputs": [
    {
     "name": "stdout",
     "output_type": "stream",
     "text": [
      "\n",
      "ITERATION: 0, FITNESS: 0.5\n",
      "\tP1 Pop: 53\n",
      "\tP2 Pop: 55\n",
      "\n",
      "ITERATION: 1, FITNESS: 0.525\n",
      "\tP1 Pop: 41\n",
      "\tP2 Pop: 58\n",
      "\n",
      "ITERATION: 2, FITNESS: 0.55\n",
      "\tP1 Pop: 44\n",
      "\tP2 Pop: 56\n",
      "\n",
      "ITERATION: 3, FITNESS: 0.575\n",
      "\tP1 Pop: 32\n",
      "\tP2 Pop: 62\n",
      "\n",
      "ITERATION: 4, FITNESS: 0.6\n",
      "\tP1 Pop: 20\n",
      "\tP2 Pop: 54\n",
      "\n",
      "ITERATION: 5, FITNESS: 0.625\n",
      "\tP1 Pop: 12\n",
      "\tP2 Pop: 70\n",
      "\n",
      "ITERATION: 6, FITNESS: 0.65\n",
      "\tP1 Pop: 20\n",
      "\tP2 Pop: 54\n",
      "\n",
      "ITERATION: 7, FITNESS: 0.675\n",
      "\tP1 Pop: 2\n",
      "\tP2 Pop: 63\n",
      "\n",
      "ITERATION: 8, FITNESS: 0.7\n",
      "\tP1 Pop: 0\n",
      "\tP2 Pop: 83\n",
      "WARNING: Player 1 population too low! Repopulating randomly\n",
      "\n",
      "ITERATION: 9, FITNESS: 0.725\n",
      "\tP1 Pop: 10\n",
      "\tP2 Pop: 97\n"
     ]
    }
   ],
   "source": [
    "p1_df, p2_df = gen_algo.evolve(verbose=True, to_df=True)"
   ]
  },
  {
   "cell_type": "markdown",
   "metadata": {},
   "source": [
    "Now that all iterations have been run, we can view each member of the remaining populations with a simple loop."
   ]
  },
  {
   "cell_type": "code",
   "execution_count": 7,
   "metadata": {},
   "outputs": [
    {
     "data": {
      "text/html": [
       "<div>\n",
       "<style scoped>\n",
       "    .dataframe tbody tr th:only-of-type {\n",
       "        vertical-align: middle;\n",
       "    }\n",
       "\n",
       "    .dataframe tbody tr th {\n",
       "        vertical-align: top;\n",
       "    }\n",
       "\n",
       "    .dataframe thead th {\n",
       "        text-align: right;\n",
       "    }\n",
       "</style>\n",
       "<table border=\"1\" class=\"dataframe\">\n",
       "  <thead>\n",
       "    <tr style=\"text-align: right;\">\n",
       "      <th></th>\n",
       "      <th>Name</th>\n",
       "      <th>Gen</th>\n",
       "      <th>Vertices</th>\n",
       "      <th>Colors</th>\n",
       "      <th>Fitness</th>\n",
       "      <th>Wins</th>\n",
       "      <th>Losses</th>\n",
       "    </tr>\n",
       "  </thead>\n",
       "  <tbody>\n",
       "    <tr>\n",
       "      <th>0</th>\n",
       "      <td>Player 1</td>\n",
       "      <td>1</td>\n",
       "      <td>[4, 3, 8, 10, 6, 5, 0, 2, 7, 1, 9]</td>\n",
       "      <td>[2, 1, 3]</td>\n",
       "      <td>0.947368</td>\n",
       "      <td>18</td>\n",
       "      <td>1</td>\n",
       "    </tr>\n",
       "    <tr>\n",
       "      <th>1</th>\n",
       "      <td>Player 1</td>\n",
       "      <td>1</td>\n",
       "      <td>[4, 8, 5, 3, 0, 6, 1, 2, 9, 10, 7]</td>\n",
       "      <td>[2, 1, 3]</td>\n",
       "      <td>0.900000</td>\n",
       "      <td>18</td>\n",
       "      <td>2</td>\n",
       "    </tr>\n",
       "    <tr>\n",
       "      <th>2</th>\n",
       "      <td>Player 1</td>\n",
       "      <td>2</td>\n",
       "      <td>[4, 3, 2, 6, 1, 7, 5, 8, 0, 10, 9]</td>\n",
       "      <td>[2, 3, 1]</td>\n",
       "      <td>0.884615</td>\n",
       "      <td>23</td>\n",
       "      <td>3</td>\n",
       "    </tr>\n",
       "    <tr>\n",
       "      <th>3</th>\n",
       "      <td>Player 1</td>\n",
       "      <td>0</td>\n",
       "      <td>[0, 10, 3, 6, 1, 9, 2, 5, 4, 7, 8]</td>\n",
       "      <td>[1, 3, 2]</td>\n",
       "      <td>0.880000</td>\n",
       "      <td>22</td>\n",
       "      <td>3</td>\n",
       "    </tr>\n",
       "    <tr>\n",
       "      <th>4</th>\n",
       "      <td>Player 1</td>\n",
       "      <td>2</td>\n",
       "      <td>[4, 8, 5, 3, 0, 6, 1, 2, 9, 10, 7]</td>\n",
       "      <td>[2, 1, 3]</td>\n",
       "      <td>0.863636</td>\n",
       "      <td>19</td>\n",
       "      <td>3</td>\n",
       "    </tr>\n",
       "  </tbody>\n",
       "</table>\n",
       "</div>"
      ],
      "text/plain": [
       "       Name Gen                            Vertices     Colors   Fitness Wins  \\\n",
       "0  Player 1   1  [4, 3, 8, 10, 6, 5, 0, 2, 7, 1, 9]  [2, 1, 3]  0.947368   18   \n",
       "1  Player 1   1  [4, 8, 5, 3, 0, 6, 1, 2, 9, 10, 7]  [2, 1, 3]  0.900000   18   \n",
       "2  Player 1   2  [4, 3, 2, 6, 1, 7, 5, 8, 0, 10, 9]  [2, 3, 1]  0.884615   23   \n",
       "3  Player 1   0  [0, 10, 3, 6, 1, 9, 2, 5, 4, 7, 8]  [1, 3, 2]  0.880000   22   \n",
       "4  Player 1   2  [4, 8, 5, 3, 0, 6, 1, 2, 9, 10, 7]  [2, 1, 3]  0.863636   19   \n",
       "\n",
       "  Losses  \n",
       "0      1  \n",
       "1      2  \n",
       "2      3  \n",
       "3      3  \n",
       "4      3  "
      ]
     },
     "execution_count": 7,
     "metadata": {},
     "output_type": "execute_result"
    }
   ],
   "source": [
    "p1_df.head()"
   ]
  },
  {
   "cell_type": "code",
   "execution_count": 8,
   "metadata": {},
   "outputs": [
    {
     "data": {
      "text/html": [
       "<div>\n",
       "<style scoped>\n",
       "    .dataframe tbody tr th:only-of-type {\n",
       "        vertical-align: middle;\n",
       "    }\n",
       "\n",
       "    .dataframe tbody tr th {\n",
       "        vertical-align: top;\n",
       "    }\n",
       "\n",
       "    .dataframe thead th {\n",
       "        text-align: right;\n",
       "    }\n",
       "</style>\n",
       "<table border=\"1\" class=\"dataframe\">\n",
       "  <thead>\n",
       "    <tr style=\"text-align: right;\">\n",
       "      <th></th>\n",
       "      <th>Name</th>\n",
       "      <th>Gen</th>\n",
       "      <th>Vertices</th>\n",
       "      <th>Colors</th>\n",
       "      <th>Fitness</th>\n",
       "      <th>Wins</th>\n",
       "      <th>Losses</th>\n",
       "    </tr>\n",
       "  </thead>\n",
       "  <tbody>\n",
       "    <tr>\n",
       "      <th>0</th>\n",
       "      <td>Player 2</td>\n",
       "      <td>9</td>\n",
       "      <td>[5, 0, 3, 7, 8, 9, 4, 1, 6, 10, 2]</td>\n",
       "      <td>[2, 1, 3]</td>\n",
       "      <td>0.976190</td>\n",
       "      <td>41</td>\n",
       "      <td>1</td>\n",
       "    </tr>\n",
       "    <tr>\n",
       "      <th>1</th>\n",
       "      <td>Player 2</td>\n",
       "      <td>9</td>\n",
       "      <td>[5, 0, 3, 4, 1, 9, 8, 6, 2, 10, 7]</td>\n",
       "      <td>[3, 1, 2]</td>\n",
       "      <td>0.973333</td>\n",
       "      <td>73</td>\n",
       "      <td>2</td>\n",
       "    </tr>\n",
       "    <tr>\n",
       "      <th>2</th>\n",
       "      <td>Player 2</td>\n",
       "      <td>9</td>\n",
       "      <td>[0, 5, 9, 4, 10, 1, 3, 2, 8, 7, 6]</td>\n",
       "      <td>[2, 1, 3]</td>\n",
       "      <td>0.954545</td>\n",
       "      <td>42</td>\n",
       "      <td>2</td>\n",
       "    </tr>\n",
       "    <tr>\n",
       "      <th>3</th>\n",
       "      <td>Player 2</td>\n",
       "      <td>5</td>\n",
       "      <td>[0, 5, 6, 2, 8, 10, 7, 1, 4, 9, 3]</td>\n",
       "      <td>[2, 3, 1]</td>\n",
       "      <td>0.950000</td>\n",
       "      <td>57</td>\n",
       "      <td>3</td>\n",
       "    </tr>\n",
       "    <tr>\n",
       "      <th>4</th>\n",
       "      <td>Player 2</td>\n",
       "      <td>9</td>\n",
       "      <td>[0, 5, 7, 2, 9, 8, 10, 4, 3, 6, 1]</td>\n",
       "      <td>[2, 3, 1]</td>\n",
       "      <td>0.945946</td>\n",
       "      <td>35</td>\n",
       "      <td>2</td>\n",
       "    </tr>\n",
       "  </tbody>\n",
       "</table>\n",
       "</div>"
      ],
      "text/plain": [
       "       Name Gen                            Vertices     Colors   Fitness Wins  \\\n",
       "0  Player 2   9  [5, 0, 3, 7, 8, 9, 4, 1, 6, 10, 2]  [2, 1, 3]  0.976190   41   \n",
       "1  Player 2   9  [5, 0, 3, 4, 1, 9, 8, 6, 2, 10, 7]  [3, 1, 2]  0.973333   73   \n",
       "2  Player 2   9  [0, 5, 9, 4, 10, 1, 3, 2, 8, 7, 6]  [2, 1, 3]  0.954545   42   \n",
       "3  Player 2   5  [0, 5, 6, 2, 8, 10, 7, 1, 4, 9, 3]  [2, 3, 1]  0.950000   57   \n",
       "4  Player 2   9  [0, 5, 7, 2, 9, 8, 10, 4, 3, 6, 1]  [2, 3, 1]  0.945946   35   \n",
       "\n",
       "  Losses  \n",
       "0      1  \n",
       "1      2  \n",
       "2      2  \n",
       "3      3  \n",
       "4      2  "
      ]
     },
     "execution_count": 8,
     "metadata": {},
     "output_type": "execute_result"
    }
   ],
   "source": [
    "p2_df.head()"
   ]
  },
  {
   "cell_type": "markdown",
   "metadata": {},
   "source": [
    "for p1 in p1_pop:\n",
    "    if p1.fitness() > 0.5:\n",
    "        print(p1)\n",
    "print()\n",
    "for p2 in p2_pop:\n",
    "    if p2.fitness() > 0.5:\n",
    "        print(p2)"
   ]
  }
 ],
 "metadata": {
  "kernelspec": {
   "display_name": "Python 3",
   "language": "python",
   "name": "python3"
  },
  "language_info": {
   "codemirror_mode": {
    "name": "ipython",
    "version": 3
   },
   "file_extension": ".py",
   "mimetype": "text/x-python",
   "name": "python",
   "nbconvert_exporter": "python",
   "pygments_lexer": "ipython3",
   "version": "3.9.3"
  }
 },
 "nbformat": 4,
 "nbformat_minor": 4
}
