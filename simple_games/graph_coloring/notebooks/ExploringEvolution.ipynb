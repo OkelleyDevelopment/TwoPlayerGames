{
 "cells": [
  {
   "cell_type": "markdown",
   "metadata": {},
   "source": [
    "# Survival of the Fittest"
   ]
  },
  {
   "cell_type": "markdown",
   "metadata": {},
   "source": [
    "This Notebook contains the exploration of how to place a large variety of players into tournament-style matches to see which players have optimal strategies.\n",
    "\n",
    "Note that the code in this Notebook has been moved to individual files in the `src` directory. Please refer to that code, only using the code here as a reference."
   ]
  },
  {
   "cell_type": "code",
   "execution_count": 1,
   "metadata": {},
   "outputs": [],
   "source": [
    "import sys\n",
    "sys.path.append(\"../..\")"
   ]
  },
  {
   "cell_type": "code",
   "execution_count": 2,
   "metadata": {},
   "outputs": [],
   "source": [
    "from classes.player import Player\n",
    "from classes.board import Board\n",
    "from classes.referee import Referee\n",
    "from classes.game import Game\n",
    "\n",
    "# Import the rulesets and strategy\n",
    "from graph_coloring.classes.gc_ruleset import GCRuleset\n",
    "from graph_coloring.classes.gc_simple_smart_strategy import GCSimpleSmartStrategy\n",
    "from graph_coloring.classes.gc_random_strategy import GCRandomStrategy\n",
    "from graph_coloring.classes.gc_data_strategy import GCDataStrategy\n",
    "from graph_coloring.classes.gc_random_init_strategy import GCRandomInitStrategy"
   ]
  },
  {
   "cell_type": "markdown",
   "metadata": {},
   "source": [
    "## Concepts"
   ]
  },
  {
   "cell_type": "markdown",
   "metadata": {},
   "source": [
    "Our end goal is to create evolving players that use optimal strategies in any game they are placed in. This is an enourmous goal with much room for error. To begin, we will need to take this in smaller steps.\n",
    "\n",
    "We will consider 3 core ideas:\n",
    "\n",
    "1. Generating a population of players with random strategies\n",
    "2. Placing players in a tournament to eliminate weak contestants\n",
    "3. Extracting the winner's strategy of a particular game"
   ]
  },
  {
   "cell_type": "markdown",
   "metadata": {},
   "source": [
    "## Generating a Population"
   ]
  },
  {
   "cell_type": "markdown",
   "metadata": {},
   "source": [
    "The simplest way to implement this is to create a function that automates this process and returns a list of our players. Let's call it `generate_population`.\n",
    "\n",
    "To generate a population, we need a few pieces of information:\n",
    "* How many players to generate?\n",
    "* What kind of strategies will be created?\n",
    "* How will these strategies be created?\n",
    "\n",
    "The first point is easily solved by passing in a parameter to our function. The other two are more complicated. We *can* make this function fairly generic, generating a strategy based on an existing strategy from the game. This is what will be attempted. \n",
    "\n",
    "To understand this better, let's look at what we expect the function to return if we implemented it for the Graph Coloring Game:\n",
    "```\n",
    "strategy = ExampleStrategy()\n",
    "\n",
    "players = generate_population(num_players=4, strategy, player_to_gen=1)\n",
    "\n",
    "for player in players:\n",
    "    print(player)\n",
    "```\n",
    "\n",
    "We expect an output where the following are true:\n",
    "* Every player has a unique name\n",
    "* Every strategy has a unique identifier\n",
    "* Color or vertex orderings can be repeated, but not both"
   ]
  },
  {
   "cell_type": "code",
   "execution_count": 3,
   "metadata": {},
   "outputs": [],
   "source": [
    "from random import sample\n",
    "from copy import deepcopy\n",
    "\n",
    "def generate_population(num_players, strategy, player_to_gen):\n",
    "    \"\"\"\n",
    "    Generates a population of players with random strategies for the\n",
    "    Graph Coloring Game.\n",
    "    \n",
    "    Args:\n",
    "        num_players : The number of players to create\n",
    "        strategy : An example strategy for the game being played\n",
    "        player_to_gen : 1 or 2, depending on what population we are generating\n",
    "    \n",
    "    Return:\n",
    "        A list of players with random strategies\n",
    "    \"\"\"\n",
    "    # A list to hold the strategies\n",
    "    strategies = []\n",
    "    generated = 0\n",
    "    failures = 0\n",
    "    max_attempts = 10 * num_players\n",
    "    \n",
    "    while generated < num_players:\n",
    "        # Clone the example strategy\n",
    "        strat = deepcopy(strategy)\n",
    "\n",
    "        # Shuffle the orderings in the data\n",
    "        new_data = {}\n",
    "        for key in strat.data.keys():\n",
    "            new_data[key] = sample(strat.data[key], len(strat.data[key]))\n",
    "            \n",
    "        # Update the data of the new strategy\n",
    "        strat.set_data(new_data)\n",
    "        \n",
    "        # Only append unique strategies\n",
    "        if strat not in strategies:\n",
    "            strategies.append(strat)\n",
    "            generated += 1\n",
    "        else:\n",
    "            failures += 1\n",
    "                    \n",
    "        # Exit if it is taking too long to create players\n",
    "        if failures >= max_attempts:\n",
    "            print(\"Error: Failed to create unique players {} times. Aborting\".format(failures))\n",
    "            break \n",
    "\n",
    "    # A list to hold the players\n",
    "    players = []\n",
    "    # Generate a new player for every strategy\n",
    "    for strat in strategies:\n",
    "        player = Player(\"Player {}\".format(player_to_gen), strat)\n",
    "        # Strategies are unique, so we don't need to check player uniqueness\n",
    "        players.append(player)\n",
    "        generated += 1\n",
    "\n",
    "    return players"
   ]
  },
  {
   "cell_type": "markdown",
   "metadata": {},
   "source": [
    "We can check our code by running the example function call from earlier:"
   ]
  },
  {
   "cell_type": "code",
   "execution_count": 4,
   "metadata": {},
   "outputs": [
    {
     "name": "stdout",
     "output_type": "stream",
     "text": [
      "Player 1: Basic Data Strategy: {'vertices': [8, 5, 6, 1, 4, 2, 10, 0, 7, 3, 9], 'colors': [3, 1, 2]}\n",
      "Gen: 0 Wins: 0 Losses: 0\n",
      "Player 1: Basic Data Strategy: {'vertices': [3, 5, 6, 8, 10, 9, 2, 4, 1, 0, 7], 'colors': [1, 2, 3]}\n",
      "Gen: 0 Wins: 0 Losses: 0\n",
      "Player 1: Basic Data Strategy: {'vertices': [1, 5, 4, 7, 10, 9, 8, 6, 3, 2, 0], 'colors': [2, 3, 1]}\n",
      "Gen: 0 Wins: 0 Losses: 0\n",
      "Player 1: Basic Data Strategy: {'vertices': [3, 7, 1, 2, 6, 8, 5, 9, 4, 10, 0], 'colors': [1, 3, 2]}\n",
      "Gen: 0 Wins: 0 Losses: 0\n",
      "Player 1: Basic Data Strategy: {'vertices': [5, 2, 7, 3, 8, 4, 6, 9, 1, 0, 10], 'colors': [1, 3, 2]}\n",
      "Gen: 0 Wins: 0 Losses: 0\n",
      "Player 1: Basic Data Strategy: {'vertices': [3, 5, 6, 10, 8, 1, 7, 4, 2, 0, 9], 'colors': [1, 2, 3]}\n",
      "Gen: 0 Wins: 0 Losses: 0\n",
      "Player 1: Basic Data Strategy: {'vertices': [4, 5, 7, 1, 3, 6, 2, 10, 0, 9, 8], 'colors': [2, 3, 1]}\n",
      "Gen: 0 Wins: 0 Losses: 0\n",
      "Player 1: Basic Data Strategy: {'vertices': [0, 8, 4, 10, 2, 5, 3, 6, 9, 7, 1], 'colors': [3, 1, 2]}\n",
      "Gen: 0 Wins: 0 Losses: 0\n",
      "\n",
      "Player 2: Basic Data Strategy: {'vertices': [9, 7, 3, 5, 4, 2, 8, 10, 1, 0, 6], 'colors': [2, 3, 1]}\n",
      "Gen: 0 Wins: 0 Losses: 0\n",
      "Player 2: Basic Data Strategy: {'vertices': [2, 5, 8, 0, 10, 6, 1, 3, 9, 7, 4], 'colors': [3, 2, 1]}\n",
      "Gen: 0 Wins: 0 Losses: 0\n",
      "Player 2: Basic Data Strategy: {'vertices': [4, 2, 6, 7, 10, 0, 8, 5, 1, 9, 3], 'colors': [3, 1, 2]}\n",
      "Gen: 0 Wins: 0 Losses: 0\n",
      "Player 2: Basic Data Strategy: {'vertices': [6, 10, 0, 2, 7, 1, 5, 4, 8, 3, 9], 'colors': [1, 2, 3]}\n",
      "Gen: 0 Wins: 0 Losses: 0\n",
      "Player 2: Basic Data Strategy: {'vertices': [3, 9, 8, 6, 4, 7, 0, 2, 5, 1, 10], 'colors': [3, 1, 2]}\n",
      "Gen: 0 Wins: 0 Losses: 0\n",
      "Player 2: Basic Data Strategy: {'vertices': [5, 7, 6, 1, 0, 2, 9, 8, 3, 4, 10], 'colors': [3, 1, 2]}\n",
      "Gen: 0 Wins: 0 Losses: 0\n",
      "Player 2: Basic Data Strategy: {'vertices': [7, 2, 0, 3, 6, 10, 1, 5, 9, 8, 4], 'colors': [1, 2, 3]}\n",
      "Gen: 0 Wins: 0 Losses: 0\n",
      "Player 2: Basic Data Strategy: {'vertices': [3, 4, 6, 5, 1, 9, 7, 0, 2, 8, 10], 'colors': [1, 2, 3]}\n",
      "Gen: 0 Wins: 0 Losses: 0\n"
     ]
    }
   ],
   "source": [
    "num_players = 8\n",
    "num_vertices = 11\n",
    "num_colors = 3\n",
    "\n",
    "data = {\"vertices\": list(range(num_vertices)), \"colors\": list(range(1, num_colors + 1))}\n",
    "strategy = GCDataStrategy(\"Basic Data Strategy\", data)\n",
    "\n",
    "p1_pop = generate_population(num_players, strategy, player_to_gen=1)\n",
    "p2_pop = generate_population(num_players, strategy, player_to_gen=2)\n",
    "\n",
    "for player1 in p1_pop:\n",
    "    print(player1)\n",
    "    \n",
    "print()\n",
    "for player2 in p2_pop:\n",
    "    print(player2)"
   ]
  },
  {
   "cell_type": "markdown",
   "metadata": {},
   "source": [
    "Seems to be working correctly! Now onto our next task: the tournament."
   ]
  },
  {
   "cell_type": "markdown",
   "metadata": {},
   "source": [
    "## Tournament"
   ]
  },
  {
   "cell_type": "markdown",
   "metadata": {},
   "source": [
    "A tournament is a simple concept: Two players compete against each other, and the winner moves up in the ranks to continue competing. For our needs, the tournaments will be the same no matter what game is being played. As such, as can write this to be generic function, let's call it `compete()`. Additionally, we want every player1 to compete against every player2 in a small sample of the player 2 population. This is to ensure good performance when dealing with large-scale populations.\n",
    "\n",
    "We want the function to do a few specific things:\n",
    "1. Pick a Player 1 from the Player 1 Population\n",
    "2. Player 1 competes, one game at a time, with every Player 2 in the Player 2 sample\n",
    "3. Player 1's win percentage is recorded\n",
    "4. If Player 1's win percent is below the `fitness` threshold, remove it from the population\n",
    "5. Repeat steps 1-5 until the \"best\" players are found\n",
    "\n",
    "Let's begin"
   ]
  },
  {
   "cell_type": "code",
   "execution_count": 5,
   "metadata": {},
   "outputs": [],
   "source": [
    "from random import choice, shuffle\n",
    "\n",
    "def compete(p1_pop, p2_pop, ruleset, num_games = 10, fitness = 0.8):\n",
    "    \"\"\"\n",
    "    Places all players in a ranked tournament against each other\n",
    "    to determine the best players.\n",
    "    \n",
    "    Args:\n",
    "        p1_pop : Player 1 population to compete in the tournament\n",
    "        p2_pop : Player 2 population to compete in the tournament\n",
    "        ruleset : Ruleset of the game being played\n",
    "        num_games : (Optional) The number of games for each player to play\n",
    "        fitness : (Optional) Percentage of wins players need to be considered \"good\"\n",
    "    \n",
    "    Return:\n",
    "        Two lists, each containing the \"best\" Player 1s and Player 2s, respectively\n",
    "    \"\"\"\n",
    "    board = Board(ruleset.initial_state, ruleset.bounds)\n",
    "\n",
    "    ref = Referee(board, ruleset)\n",
    "\n",
    "    # Create lists to hold the \"best\" players\n",
    "    best_p1s = eliminate(p1_pop, p2_pop, num_games, ref, board, fitness, True)\n",
    "    best_p2s = eliminate(p2_pop, p1_pop, num_games, ref, board, fitness, False)\n",
    "    \n",
    "    return sorted(best_p1s, reverse=True), sorted(best_p2s, reverse=True)\n",
    "\n",
    "def eliminate(player_pop, opponent_pop, num_games, referee, board, fitness, player_is_p1):\n",
    "    \"\"\"\n",
    "    Competes all players against a random sample of opponents and eliminates\n",
    "    players who do not meet the fitness critera.\n",
    "    \n",
    "    Args:\n",
    "        player_pop : Population of players to compete\n",
    "        opponent_pop : Population of opponents to sample from\n",
    "        num_games : Number of games to play\n",
    "        referee : Referee of the game\n",
    "        board : Board being played on\n",
    "        fitness : Win percentage required to survive\n",
    "        player_is_p1 : Whether the `player_pop` is a Player 1 population\n",
    "    \"\"\"\n",
    "    # Create a list of elite/best players\n",
    "    elite = []\n",
    "    \n",
    "    for player in player_pop:\n",
    "        # Get a random sample of opponents\n",
    "        opponent_sample = sample(opponent_pop, min(len(opponent_pop), num_games))\n",
    "        \n",
    "        # Every player must play every opponent in the sample\n",
    "        for opponent in opponent_sample:\n",
    "            # Order the players based on p1/p2 status\n",
    "            players = [player, opponent] if player_is_p1 else [opponent, player]\n",
    "            \n",
    "            # Create and play the game\n",
    "            game = Game(referee, board, players)\n",
    "            board = game.play()\n",
    "\n",
    "        # Only append players whose fitness at least the threshold\n",
    "        if player.fitness() >= fitness:\n",
    "            elite.append(player)\n",
    "            \n",
    "    return elite"
   ]
  },
  {
   "cell_type": "markdown",
   "metadata": {},
   "source": [
    "Now we can test our function by providing simple game parameters:"
   ]
  },
  {
   "cell_type": "code",
   "execution_count": 6,
   "metadata": {
    "tags": []
   },
   "outputs": [],
   "source": [
    "initial_state = [\n",
    "    {\"color\": 0, \"adj\": [1, 2]},\n",
    "    {\"color\": 0, \"adj\": [0, 2, 3]},\n",
    "    {\"color\": 0, \"adj\": [0, 1, 3, 6]},\n",
    "    {\"color\": 0, \"adj\": [1, 2, 5]},\n",
    "    {\"color\": 0, \"adj\": [5]},\n",
    "    {\"color\": 0, \"adj\": [3, 4, 9]},\n",
    "    {\"color\": 0, \"adj\": [2, 7, 9]},\n",
    "    {\"color\": 0, \"adj\": [6, 8, 9]},\n",
    "    {\"color\": 0, \"adj\": [7]},\n",
    "    {\"color\": 0, \"adj\": [6, 7, 10]},\n",
    "    {\"color\": 0, \"adj\": [9]},\n",
    "]\n",
    "bounds = 3\n",
    "ruleset =  GCRuleset(\"Graph Coloring Ruleset\", initial_state, bounds)"
   ]
  },
  {
   "cell_type": "markdown",
   "metadata": {},
   "source": [
    "And by calling our function on our ruleset."
   ]
  },
  {
   "cell_type": "code",
   "execution_count": 7,
   "metadata": {
    "tags": []
   },
   "outputs": [
    {
     "name": "stdout",
     "output_type": "stream",
     "text": [
      "Player 1: Basic Data Strategy: {'vertices': [3, 5, 6, 8, 10, 9, 2, 4, 1, 0, 7], 'colors': [1, 2, 3]}\n",
      "Gen: 0 Wins: 12 Losses: 4\n",
      "Player 1: Basic Data Strategy: {'vertices': [3, 5, 6, 10, 8, 1, 7, 4, 2, 0, 9], 'colors': [1, 2, 3]}\n",
      "Gen: 0 Wins: 12 Losses: 4\n",
      "Player 1: Basic Data Strategy: {'vertices': [8, 5, 6, 1, 4, 2, 10, 0, 7, 3, 9], 'colors': [3, 1, 2]}\n",
      "Gen: 0 Wins: 10 Losses: 6\n",
      "Player 1: Basic Data Strategy: {'vertices': [1, 5, 4, 7, 10, 9, 8, 6, 3, 2, 0], 'colors': [2, 3, 1]}\n",
      "Gen: 0 Wins: 10 Losses: 6\n",
      "Player 1: Basic Data Strategy: {'vertices': [3, 7, 1, 2, 6, 8, 5, 9, 4, 10, 0], 'colors': [1, 3, 2]}\n",
      "Gen: 0 Wins: 10 Losses: 6\n",
      "Player 1: Basic Data Strategy: {'vertices': [5, 2, 7, 3, 8, 4, 6, 9, 1, 0, 10], 'colors': [1, 3, 2]}\n",
      "Gen: 0 Wins: 8 Losses: 8\n",
      "\n",
      "Player 2: Basic Data Strategy: {'vertices': [2, 5, 8, 0, 10, 6, 1, 3, 9, 7, 4], 'colors': [3, 2, 1]}\n",
      "Gen: 0 Wins: 14 Losses: 2\n",
      "Player 2: Basic Data Strategy: {'vertices': [3, 9, 8, 6, 4, 7, 0, 2, 5, 1, 10], 'colors': [3, 1, 2]}\n",
      "Gen: 0 Wins: 10 Losses: 6\n"
     ]
    }
   ],
   "source": [
    "best_p1s, best_p2s = compete(p1_pop, p2_pop, ruleset, fitness=.5)\n",
    "\n",
    "for best_p1 in best_p1s:\n",
    "    print(best_p1)\n",
    "print()\n",
    "for best_p2 in best_p2s:\n",
    "    print(best_p2)"
   ]
  },
  {
   "cell_type": "markdown",
   "metadata": {},
   "source": [
    "All seems to be working. Now, if we want to iterate over this, we simply call this function in a loop, updating our `players` list repeatedly."
   ]
  },
  {
   "cell_type": "markdown",
   "metadata": {},
   "source": [
    "### Interlude"
   ]
  },
  {
   "cell_type": "markdown",
   "metadata": {},
   "source": [
    "Right now the code is a little scattered, so let's re-type the code to have a much more concise example. We will use the graph below"
   ]
  },
  {
   "attachments": {
    "1064dafa-cbdd-4429-a253-1fc0f15ea596.png": {
     "image/png": "[encoded data removed]"
    }
   },
   "cell_type": "markdown",
   "metadata": {},
   "source": [
    "![image.png](attachment:1064dafa-cbdd-4429-a253-1fc0f15ea596.png)"
   ]
  },
  {
   "cell_type": "code",
   "execution_count": 8,
   "metadata": {},
   "outputs": [
    {
     "name": "stdout",
     "output_type": "stream",
     "text": [
      "Player 1: Basic Data Strategy: {'vertices': [2, 10, 7, 5, 0, 9, 1, 3, 6, 4, 8], 'colors': [3, 1, 2]}\n",
      "Gen: 0 Wins: 36 Losses: 7\n",
      "Player 1: Basic Data Strategy: {'vertices': [1, 10, 6, 9, 8, 7, 4, 3, 5, 2, 0], 'colors': [1, 2, 3]}\n",
      "Gen: 0 Wins: 33 Losses: 12\n",
      "Player 1: Basic Data Strategy: {'vertices': [9, 2, 5, 3, 10, 1, 7, 6, 8, 0, 4], 'colors': [3, 2, 1]}\n",
      "Gen: 0 Wins: 33 Losses: 15\n",
      "Player 1: Basic Data Strategy: {'vertices': [1, 6, 2, 9, 8, 4, 5, 3, 10, 0, 7], 'colors': [1, 2, 3]}\n",
      "Gen: 0 Wins: 30 Losses: 15\n",
      "Player 1: Basic Data Strategy: {'vertices': [2, 8, 6, 4, 3, 7, 5, 10, 1, 9, 0], 'colors': [2, 1, 3]}\n",
      "Gen: 0 Wins: 30 Losses: 18\n",
      "Player 1: Basic Data Strategy: {'vertices': [7, 8, 9, 6, 5, 10, 0, 2, 3, 1, 4], 'colors': [1, 3, 2]}\n",
      "Gen: 0 Wins: 27 Losses: 21\n",
      "Player 1: Basic Data Strategy: {'vertices': [6, 3, 5, 10, 8, 9, 4, 1, 0, 2, 7], 'colors': [3, 1, 2]}\n",
      "Gen: 0 Wins: 23 Losses: 18\n",
      "Player 1: Basic Data Strategy: {'vertices': [4, 5, 0, 3, 7, 9, 8, 2, 6, 10, 1], 'colors': [1, 2, 3]}\n",
      "Gen: 0 Wins: 25 Losses: 21\n",
      "Player 1: Basic Data Strategy: {'vertices': [1, 0, 5, 8, 4, 9, 3, 10, 7, 2, 6], 'colors': [2, 3, 1]}\n",
      "Gen: 0 Wins: 25 Losses: 22\n",
      "Player 1: Basic Data Strategy: {'vertices': [10, 0, 4, 1, 3, 8, 9, 7, 6, 5, 2], 'colors': [3, 1, 2]}\n",
      "Gen: 0 Wins: 23 Losses: 22\n",
      "Player 1: Basic Data Strategy: {'vertices': [3, 9, 10, 8, 7, 6, 5, 4, 0, 1, 2], 'colors': [3, 1, 2]}\n",
      "Gen: 0 Wins: 25 Losses: 25\n",
      "Player 1: Basic Data Strategy: {'vertices': [1, 10, 2, 0, 4, 9, 7, 6, 8, 5, 3], 'colors': [1, 2, 3]}\n",
      "Gen: 0 Wins: 23 Losses: 23\n",
      "Player 1: Basic Data Strategy: {'vertices': [1, 7, 4, 0, 8, 10, 5, 9, 3, 6, 2], 'colors': [3, 2, 1]}\n",
      "Gen: 0 Wins: 17 Losses: 21\n",
      "Player 1: Basic Data Strategy: {'vertices': [3, 9, 0, 1, 4, 2, 6, 8, 5, 10, 7], 'colors': [1, 3, 2]}\n",
      "Gen: 0 Wins: 20 Losses: 25\n",
      "Player 2: Basic Data Strategy: {'vertices': [6, 8, 2, 0, 4, 7, 5, 9, 3, 10, 1], 'colors': [2, 1, 3]}\n",
      "Gen: 0 Wins: 42 Losses: 28\n",
      "Player 2: Basic Data Strategy: {'vertices': [0, 1, 9, 10, 7, 3, 4, 2, 5, 8, 6], 'colors': [1, 2, 3]}\n",
      "Gen: 0 Wins: 39 Losses: 27\n",
      "Player 2: Basic Data Strategy: {'vertices': [2, 1, 3, 8, 10, 0, 9, 5, 7, 6, 4], 'colors': [3, 1, 2]}\n",
      "Gen: 0 Wins: 37 Losses: 32\n",
      "Player 2: Basic Data Strategy: {'vertices': [10, 5, 7, 3, 0, 2, 1, 4, 6, 8, 9], 'colors': [1, 2, 3]}\n",
      "Gen: 0 Wins: 34 Losses: 34\n",
      "Player 2: Basic Data Strategy: {'vertices': [0, 9, 3, 6, 5, 7, 8, 1, 4, 2, 10], 'colors': [3, 1, 2]}\n",
      "Gen: 0 Wins: 31 Losses: 38\n",
      "Player 2: Basic Data Strategy: {'vertices': [8, 1, 0, 6, 9, 10, 3, 5, 4, 7, 2], 'colors': [1, 3, 2]}\n",
      "Gen: 0 Wins: 30 Losses: 39\n"
     ]
    }
   ],
   "source": [
    "# Create a graph to play on\n",
    "initial_state = [\n",
    "    {\"color\": 0, \"adj\": [1, 2]},\n",
    "    {\"color\": 0, \"adj\": [0, 2, 3]},\n",
    "    {\"color\": 0, \"adj\": [0, 1, 3, 6]},\n",
    "    {\"color\": 0, \"adj\": [1, 2, 5]},\n",
    "    {\"color\": 0, \"adj\": [5]},\n",
    "    {\"color\": 0, \"adj\": [3, 4, 9]},\n",
    "    {\"color\": 0, \"adj\": [2, 7, 9]},\n",
    "    {\"color\": 0, \"adj\": [6, 8, 9]},\n",
    "    {\"color\": 0, \"adj\": [7]},\n",
    "    {\"color\": 0, \"adj\": [6, 7, 10]},\n",
    "    {\"color\": 0, \"adj\": [9]},\n",
    "]\n",
    "\n",
    "# Create our ruleset using the graph and bounds\n",
    "ruleset =  GCRuleset(\"Graph Coloring Ruleset\", initial_state, bounds = 3)\n",
    "data = {\"vertices\": range(len(ruleset.initial_state)), \"colors\": range(1, ruleset.bounds + 1)}\n",
    "strategy = GCDataStrategy(\"Basic Data Strategy\", data)\n",
    "\n",
    "# Create a population of players with random strategies\n",
    "num_players = 16\n",
    "p1_pop = generate_population(num_players, strategy, player_to_gen=1)\n",
    "p2_pop = generate_population(num_players, strategy, player_to_gen=2)\n",
    "\n",
    "for i in range(3):\n",
    "    p1_pop, p2_pop = compete(p1_pop, p2_pop, ruleset, fitness=0.4)\n",
    "\n",
    "for p1 in p1_pop:\n",
    "    print(p1)\n",
    "    \n",
    "for p2 in p2_pop:\n",
    "    print(p2)"
   ]
  },
  {
   "cell_type": "markdown",
   "metadata": {},
   "source": [
    "Now that our code is clear and concise, let's move on to the next big step..."
   ]
  },
  {
   "cell_type": "markdown",
   "metadata": {},
   "source": [
    "## Reproduction"
   ]
  },
  {
   "cell_type": "markdown",
   "metadata": {},
   "source": [
    "Evolution is nothing without reproduction. Two individuals will produce an offspring that is mostly a random combination of the traits from both parents. We say \"mostly\" here because there can be minor amounts of mutation.\n",
    "\n",
    "Two have two players reproduce, we need to extract each player's strategy, splice them together, and produce a new player from it.\n",
    "\n",
    "Consider the following two players, which will be used as parents:\n",
    "```\n",
    "Player 1: Strategy: {'vertices': [7, 4, 5, 1, 2, 6, 9, 0, 10, 8, 3], 'colors': [2, 3, 4, 1]}\n",
    "Player 2: Strategy: {'vertices': [9, 10, 0, 1, 2, 3, 5, 8, 4, 7, 6], 'colors': [2, 3, 1, 4]}\n",
    "```\n",
    "We have two strategies, `[7, 4, 5, 1, 2, 6, 9, 0, 10, 8, 3]` and `[9, 10, 0, 1, 2, 3, 5, 8, 4, 7, 6]`.\n",
    "\n",
    "An \"offspring\" of these two players will include a strategy that is a combination of these two strategies. We will begin splicing these two strategies by choosing a `crossover` point. The `crossover` point should be randomly chosen and be somewhere after the first element and before the last element, so that a mix of qualities from both parents is ensured.\n",
    "\n",
    "For our example, let's choose index 3 as our `crossover` point. Everything *before* the `crossover` will be chosen from the first parent, and everything *after* the `crossover` point will be chosen from the second. Because we are working with graphs, we need to ensure that no duplicate entries exist (meaning no duplicate vertices are included in the strategy). To do this, we carefully pick information from the second parent that has not been provided from the first example. This can be broken down into steps:\n",
    "1. Choose a crossover point `c`\n",
    "2. Extract all data up to and including point `c` from the first parent\n",
    "3. Iterate over the second parent's data from the beginning\n",
    "4. Take data bit-by-bit, excluding any data provided by the first parent\n",
    "5. Once all data points have been collected, splice the two strings. \n",
    "\n",
    "Once the newly-spliced data is created, this process can be repeated for every other trait possessed by the parents (such as the color ordering), and a new child can be created with the newly-generated data."
   ]
  },
  {
   "cell_type": "code",
   "execution_count": 13,
   "metadata": {},
   "outputs": [],
   "source": [
    "from random import random, randrange\n",
    "from copy import deepcopy\n",
    "\n",
    "def spawn(parent1, parent2, child_name, child_strat_name, mutation_rate = .0025):\n",
    "    \"\"\"\n",
    "    Spawns a new `Player` instance using the provided players\n",
    "    as parents.\n",
    "    \n",
    "    Args:\n",
    "        parent1 : The first parent\n",
    "        parent2 : The second parent\n",
    "        child_name : The name of the child-to-be\n",
    "        child_strat_name : The name of the child's strategy\n",
    "        mutation_rate : Percentage for a mutation to occur\n",
    "    \n",
    "    Return:\n",
    "        A new `Player` with traits from both parents\n",
    "    \"\"\"\n",
    "    # Get all the data \n",
    "    traits = parent1.strategy.data.keys()\n",
    "    \n",
    "    child_traits = {}\n",
    "    for trait in traits:\n",
    "        # Obtain the current trait from both parents\n",
    "        p1_trait = parent1.strategy.data[trait]\n",
    "        p2_trait = parent2.strategy.data[trait]\n",
    "        \n",
    "        # Randomly generated crossover point\n",
    "        crossover = randrange(0, len(p1_trait))       \n",
    "        \n",
    "        # Choose up to the crossover from parent 1\n",
    "        p1_inherit = p1_trait[:crossover]\n",
    "        \n",
    "        # Choose the rest of the genes from parent 2\n",
    "        p2_inherit = [gene for gene in p2_trait if gene not in p1_inherit]\n",
    "        \n",
    "        # Assemble child's trait\n",
    "        child_trait = p1_inherit + p2_inherit\n",
    "        \n",
    "        # Mutation Check: If mutation occurs, swap two genes\n",
    "        if random() < mutation_rate:\n",
    "            index1, index2 = sample(range(len(p1_trait)), 2)\n",
    "            child_trait[index1], child_trait[index2] = child_trait[index2], child_trait[index1]\n",
    "        \n",
    "        # Construct the child's traits\n",
    "        child_traits[trait] = child_trait\n",
    "    \n",
    "    child_strat = deepcopy(parent1.strategy)\n",
    "    child_strat.set_name(child_strat_name)\n",
    "    child_strat.set_data(child_traits)\n",
    "    \n",
    "    child = Player(child_name, child_strat)\n",
    "    child.generation = max(parent1.generation, parent2.generation) + 1\n",
    "    \n",
    "    return child"
   ]
  },
  {
   "cell_type": "markdown",
   "metadata": {},
   "source": [
    "With our function in place, let's try facilitating reproduction between two players from `p1_pop`."
   ]
  },
  {
   "cell_type": "code",
   "execution_count": 15,
   "metadata": {},
   "outputs": [
    {
     "name": "stdout",
     "output_type": "stream",
     "text": [
      "Player 1: Basic Data Strategy: {'vertices': [2, 10, 7, 5, 0, 9, 1, 3, 6, 4, 8], 'colors': [3, 1, 2]}\n",
      "Gen: 0 Wins: 36 Losses: 7\n",
      "Player 1: Basic Data Strategy: {'vertices': [1, 10, 6, 9, 8, 7, 4, 3, 5, 2, 0], 'colors': [1, 2, 3]}\n",
      "Gen: 0 Wins: 33 Losses: 12\n",
      "\n",
      "First Child: Child Strategy: {'vertices': [2, 10, 7, 5, 1, 6, 9, 8, 4, 3, 0], 'colors': [3, 1, 2]}\n",
      "Gen: 1 Wins: 0 Losses: 0\n"
     ]
    }
   ],
   "source": [
    "parent1 = p1_pop[0]\n",
    "parent2 = p1_pop[1]\n",
    "\n",
    "print(parent1)\n",
    "print(parent2)\n",
    "print()\n",
    "\n",
    "child = spawn(parent1, parent2, \"First Child\", \"Child Strategy\")\n",
    "print(child)"
   ]
  },
  {
   "cell_type": "markdown",
   "metadata": {},
   "source": [
    "Excellent! Reproduction works as expected. With the added bonus of mutation, as well. Now that the code is all in place, we can commence streamlining it into a simple function."
   ]
  },
  {
   "cell_type": "markdown",
   "metadata": {},
   "source": [
    "## Natural Selection"
   ]
  },
  {
   "cell_type": "markdown",
   "metadata": {},
   "source": [
    "Our end goal is to have a function that takes in as few parameters as possible and returns to use the best players for our game. This function will need to perform all of the tasks listed in the Notebook so far, with a few extra steps. Luckily, we can reuse all of the functions written earlier.\n",
    "\n",
    "Let's review what needs to happen:\n",
    "1. Generate a random population of both players\n",
    "2. Compete both populations against each other\n",
    "3. Remove \"bad\" players who did not have a high enough win percentage\n",
    "4. Breed elite players to fill the gap left in the population\n",
    "5. Repeat steps 2-4 until a threshold has been met\n",
    "6. Return both populations of elite players"
   ]
  },
  {
   "cell_type": "code",
   "execution_count": 23,
   "metadata": {},
   "outputs": [],
   "source": [
    "from random import sample\n",
    "\n",
    "def evolve(pop_size, ruleset, strategy, generations, num_games = 10, mutation_rate = 0.025, fitness = 0.5, max_fitness = 0.9, fitness_increment = 0.05, verbose = False):\n",
    "    \"\"\"\n",
    "    Generates random populations of players and evolves them across a specified\n",
    "    number of generations.\n",
    "    Evolution is composed of competing players, eliminating poor performers,\n",
    "    and reproducing good players with each other to produce optimal children.\n",
    "    \n",
    "    Args:\n",
    "        pop_size : Size of the populations to generate\n",
    "        ruleset : The ruleset of the game to play on\n",
    "        strategy : An example strategy to generate populations from\n",
    "        generations : Number of generations to evolve players\n",
    "        num_games : (Optional) Minimum number of games each player must play per generation\n",
    "        mutation_rate : (Optional) Percentage to mutation to occur\n",
    "        initial_fitness : (Optional) Initial minimum win percentage to continue playing\n",
    "        max_fitness : (Optional) Maximum fitness to test players against\n",
    "        fitness_increment : (Optional) What to increment the fitness by after each iteration\n",
    "        verbose : (Optional) Whether to print debug information\n",
    "        \n",
    "    Return:\n",
    "        Two lists, containing the elite P1 and P2 populations, respectively\n",
    "    \"\"\"\n",
    "    # Create populations of players with random strategies\n",
    "    p1_pop = generate_population(pop_size, strategy, 1)\n",
    "    p2_pop = generate_population(pop_size, strategy, 2)\n",
    "    \n",
    "    for i in range(generations):\n",
    "        # Compete both populations against each other\n",
    "        p1_pop, p2_pop = compete(p1_pop, p2_pop, ruleset, num_games, fitness)\n",
    "\n",
    "        if verbose:\n",
    "            print(\"\\nITERATION: {}, FITNESS: {}\".format(i, round(fitness, 4)))\n",
    "            print(\"\\tP1 Pop: \" + str(len(p1_pop)))\n",
    "            print(\"\\tP2 Pop: \" + str(len(p2_pop)))\n",
    "\n",
    "        # Repopulate p1_pop\n",
    "        repopulate(p1_pop, pop_size, 1, ruleset, mutation_rate, verbose)\n",
    "        repopulate(p2_pop, pop_size, 2, ruleset, mutation_rate, verbose)\n",
    "       \n",
    "        # Never increase fitness beyond 90%\n",
    "        if fitness < max_fitness:\n",
    "            fitness += fitness_increment\n",
    "                    \n",
    "    # Return the elite players\n",
    "    return p1_pop, p2_pop\n",
    "\n",
    "def repopulate(pop, pop_size, pop_id, ruleset, mutation_rate, verbose):\n",
    "    \"\"\"\n",
    "    Breeds a depleted population until its capacity is reached again.\n",
    "    \n",
    "    Args:\n",
    "        pop : The population to reproduce from\n",
    "        pop_size : The capacity of the population\n",
    "        pop_id : The player ID of the population; 1 or 2\n",
    "        ruleset : Ruleset of the game being played\n",
    "        mutation_rate : Percentage that a mutation will occur\n",
    "        verbose : Whether to print debug information\n",
    "        \n",
    "    Return:\n",
    "        A list of children to add to the population\n",
    "    \"\"\"\n",
    "    # Keep track of number of children made\n",
    "    child_counter = 0\n",
    "    \n",
    "    while len(pop) < pop_size:\n",
    "        child_counter += 1\n",
    "\n",
    "        # If the population is too low, repopulate randomly\n",
    "        if len(pop) < 2:\n",
    "            if verbose:\n",
    "                print(\"WARNING: Player {} population too low! Repopulating randomly\".format(pop_id))\n",
    "            pop += generate_population(pop_size // 2, strategy, pop_id)\n",
    "\n",
    "        # Get two random parents\n",
    "        parent1, parent2 = sample(pop, 2)\n",
    "\n",
    "        # Name the child and its strategy\n",
    "        child_name = \"Player {} #{}.{}\".format(pop_id, i, child_counter)\n",
    "        child_strat_name = \"Evolved Strategy #{}\".format(child_counter)\n",
    "\n",
    "        # Create the child\n",
    "        child = spawn(parent1, parent2, child_name, child_strat_name, mutation_rate)\n",
    "\n",
    "        # Add the new child to the population\n",
    "        pop.append(child)\n",
    "\n",
    "    pop.sort(reverse=True)"
   ]
  },
  {
   "cell_type": "markdown",
   "metadata": {},
   "source": [
    "Now let's test everything on a sample game."
   ]
  },
  {
   "cell_type": "code",
   "execution_count": 24,
   "metadata": {},
   "outputs": [
    {
     "name": "stdout",
     "output_type": "stream",
     "text": [
      "\n",
      "ITERATION: 0, FITNESS: 0.5\n",
      "\tP1 Pop: 80\n",
      "\tP2 Pop: 65\n",
      "\n",
      "ITERATION: 1, FITNESS: 0.55\n",
      "\tP1 Pop: 69\n",
      "\tP2 Pop: 44\n",
      "\n",
      "ITERATION: 2, FITNESS: 0.6\n",
      "\tP1 Pop: 61\n",
      "\tP2 Pop: 39\n",
      "\n",
      "ITERATION: 3, FITNESS: 0.65\n",
      "\tP1 Pop: 34\n",
      "\tP2 Pop: 49\n",
      "\n",
      "ITERATION: 4, FITNESS: 0.7\n",
      "\tP1 Pop: 27\n",
      "\tP2 Pop: 18\n",
      "\n",
      "ITERATION: 5, FITNESS: 0.75\n",
      "\tP1 Pop: 20\n",
      "\tP2 Pop: 31\n",
      "\n",
      "ITERATION: 6, FITNESS: 0.8\n",
      "\tP1 Pop: 32\n",
      "\tP2 Pop: 1\n",
      "WARNING: Player 2 population too low! Repopulating randomly\n",
      "\n",
      "ITERATION: 7, FITNESS: 0.85\n",
      "\tP1 Pop: 26\n",
      "\tP2 Pop: 3\n",
      "\n",
      "ITERATION: 8, FITNESS: 0.9\n",
      "\tP1 Pop: 3\n",
      "\tP2 Pop: 11\n",
      "\n",
      "ITERATION: 9, FITNESS: 0.9\n",
      "\tP1 Pop: 99\n",
      "\tP2 Pop: 0\n",
      "WARNING: Player 2 population too low! Repopulating randomly\n"
     ]
    }
   ],
   "source": [
    "# Create a graph to play on\n",
    "initial_state = [\n",
    "    {\"color\": 0, \"adj\": [1, 2]},\n",
    "    {\"color\": 0, \"adj\": [0, 2, 3]},\n",
    "    {\"color\": 0, \"adj\": [0, 1, 3, 6]},\n",
    "    {\"color\": 0, \"adj\": [1, 2, 5]},\n",
    "    {\"color\": 0, \"adj\": [5]},\n",
    "    {\"color\": 0, \"adj\": [3, 4, 9]},\n",
    "    {\"color\": 0, \"adj\": [2, 7, 9]},\n",
    "    {\"color\": 0, \"adj\": [6, 8, 9]},\n",
    "    {\"color\": 0, \"adj\": [7]},\n",
    "    {\"color\": 0, \"adj\": [6, 7, 10]},\n",
    "    {\"color\": 0, \"adj\": [9]},\n",
    "]\n",
    "\n",
    "# Create our ruleset and strategy using the graph and bounds\n",
    "ruleset =  GCRuleset(\"Graph Coloring Ruleset\", initial_state, bounds=3)\n",
    "data = {\"vertices\": range(len(ruleset.initial_state)), \"colors\": range(1, ruleset.bounds + 1)}\n",
    "strategy = GCDataStrategy(\"Basic Data Strategy\", data)\n",
    "\n",
    "p1_pop, p2_pop = evolve(pop_size=128, ruleset=ruleset, strategy=strategy, generations=10, fitness=.5, verbose=True)"
   ]
  },
  {
   "cell_type": "code",
   "execution_count": null,
   "metadata": {},
   "outputs": [],
   "source": [
    "for p1 in p1_pop:\n",
    "    print(p1)\n",
    "print()\n",
    "for p2 in p2_pop:\n",
    "    print(p2)"
   ]
  },
  {
   "cell_type": "code",
   "execution_count": null,
   "metadata": {},
   "outputs": [],
   "source": []
  }
 ],
 "metadata": {
  "kernelspec": {
   "display_name": "Python 3",
   "language": "python",
   "name": "python3"
  },
  "language_info": {
   "codemirror_mode": {
    "name": "ipython",
    "version": 3
   },
   "file_extension": ".py",
   "mimetype": "text/x-python",
   "name": "python",
   "nbconvert_exporter": "python",
   "pygments_lexer": "ipython3",
   "version": "3.8.5"
  }
 },
 "nbformat": 4,
 "nbformat_minor": 4
}
