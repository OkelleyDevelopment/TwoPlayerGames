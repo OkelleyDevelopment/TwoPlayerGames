{
 "cells": [
  {
   "cell_type": "markdown",
   "metadata": {},
   "source": [
    "-----\n",
    "# Simple Two Player Games\n",
    "-----"
   ]
  },
  {
   "cell_type": "markdown",
   "metadata": {},
   "source": [
    "# Table of Contents\n",
    "\n",
    "- [1. The Problem](#1.-The-Problem)\n",
    "- [2. Recap Fall 2020](#2.-Recap-Fall-2020)\n",
    "  - [2.1 Results](#2.1-Results)\n",
    "- [3. Spring 2021](#3.-Spring-2021)\n",
    "  - [3.1 Progress](#3.1-Progress)\n",
    "  - [3.2 Overcoming Issues](#3.2-Overcoming-Issues)\n",
    "- [4. Development Refinement](#4.-Development-Refinement)\n",
    "  - [4.1 Program Requirements](#4.1-Program-Requirements)\n",
    "  - [4.2 Why use interfaces?](#4.2-Why-use-interfaces?)\n",
    "    - [4.2.1 The Ruleset](#4.2.1-The-Ruleset)\n",
    "  - [4.3 Constraints](#4.3-Constraints)\n",
    "  - [4.4 Instructions for Imports](#4.4-Instructions-for-Imports)\n",
    "- [5. Example Implementation](#5.-Example-Implementation)\n",
    "- [6. Running the Game](#6.-Running-the-Game)\n",
    "- [7. Defining a Pool of Random Strategies](#7.-Defining-a-Pool-of-Random-Strategies)\n"
   ]
  },
  {
   "cell_type": "markdown",
   "metadata": {},
   "source": [
    "# 1. The Problem\n",
    "\n",
    "As we explore this area and try to find driving factors that assist in developing an optimal strategy for various two player games, we must first address some concerns and develop a plan of execution. This will ultimately help us know where the project and research have been, are currently, and are going to head towards. \n",
    "\n",
    "# 2. Recap Fall 2020\n",
    "During this semester, we all met and discussed the concepts the make up a game and what characteristics are to be observed to assess if there is a winner. This led to the creation of several python game classes that would be used to flesh out, what I will now call, a proof-of-concept for Toothpick Takeaway. By October/November, we were able to finally begin collecting data to start some very primitive analysis. One of the issues we faced was the formatting of the data in our final CSV as larger games did not format quite as nicely (this will be address later in this document).\n",
    "\n",
    "## 2.1 Results\n",
    "\n",
    "A great thing that came from this endeavor was how we were able to abstract out the game glasses enough to let them act as interfaces for each *new* game. These files can be located along the path `/simple_games/classes/`. Inside are the components that make up every game: \n",
    "- board - where the game is being played\n",
    "- player - represents a single player in a game\n",
    "- referee - monitors the moves of a player and validates attempted moves\n",
    "- game  - the object that has all of the mentioned components and begins the game\n",
    "\n",
    "Another great skill we developed over the semester was the ability to work as a team, communicating with each other via email and other means as necessary, to see the project progress. Our utilization of GitHub issues allowed for each member to choose something to work on. This helped keep a steady workflow and followed some of the principles of Agile development like Dr. Penland was hoping. "
   ]
  },
  {
   "cell_type": "markdown",
   "metadata": {},
   "source": [
    "---\n",
    "# 3. Spring 2021\n",
    "----\n",
    "\n",
    "## 3.1 Progress\n",
    "\n",
    "This brings us to this semester. We have been able to further refine how the generic classes work and introduced some interfaces for our `ruleset` and `strategy` for each game. Interfaces allow us to require a certain functionality but the implementation is left to be decided for each game. \n",
    "\n",
    "Note: Under [Program Requirements](#4.1-Program-Requirements), we will address the interfaces and why they matter in more detail.\n",
    "\n",
    "Our goals this semester include developing software that allows for new games to be added easily (which we are almost there) to gather data from in hopes of designing a genetic algorithm that can start to evolve against our hard coded strategies. Another goal, more in the immediate is to prepare a small presentation of all of the research up to this point for the MAA SE conference. \n",
    "\n",
    "The second is doable and while the second is more involved, can be achieved relatively soon. \n",
    "\n",
    "## 3.2 Overcoming Issues\n",
    "One of the biggest issues that we are currently dealing with is identifying the system the this project relies on to function and how to design components such that we can each build something and then integrate back together. \n",
    "\n",
    "We plan to address this concern at the next meeting so that everyone can feel a sense of project security. "
   ]
  },
  {
   "cell_type": "markdown",
   "metadata": {},
   "source": [
    "---\n",
    "# 4. Development Refinement\n",
    "-----"
   ]
  },
  {
   "cell_type": "markdown",
   "metadata": {},
   "source": [
    "## 4.1 Program Requirements"
   ]
  },
  {
   "cell_type": "markdown",
   "metadata": {},
   "source": [
    "A Two Player Game must have some baseline functionality to operate. This functionality is met by properly implemented the required interfaces on a new `Ruleset` class and `Strategy` class."
   ]
  },
  {
   "cell_type": "markdown",
   "metadata": {},
   "source": [
    "## 4.2 Why use interfaces?\n",
    "\n",
    "The use of the interface allows for each new game to still utilize the `generic` classes that we created last semester and implement the functionality as prescribed by `ruleset` and `strategy` interface. In other words, our program will be easier to scale upwards since the implementation details for the strategy and rule sets are dependent on *each new game*."
   ]
  },
  {
   "cell_type": "markdown",
   "metadata": {},
   "source": [
    "### 4.2.1 The Ruleset"
   ]
  },
  {
   "cell_type": "markdown",
   "metadata": {},
   "source": [
    "A ruleset is the set of rules that define how a game operates. Creating a ruleset involves implementing the required functions provided by the `RulesetInterface`. The functions consist of the following:\n",
    "\n",
    "* `__init__(name, initial_state, bounds = None)`: A constructor to setup the ruleset. A ruleset name (usually the game's name) must be provided. Additionally, the initial state of                                                    the game board must be specified. If necessary, the bounds of the game board may be provided. Think critically about what kind of                                                      board the game will need. For example, a game needing a tileboard needs bounds to determine its size."
   ]
  },
  {
   "cell_type": "markdown",
   "metadata": {},
   "source": [
    "* `is_legal(board, proposed_move)`: Determines if the proposed move is legal given the current board state. This function does not need to know who made the move, as it only                                             determines whether the move was legal or not. It **must** return either `True` or `False`.\n"
   ]
  },
  {
   "cell_type": "markdown",
   "metadata": {},
   "source": [
    "* `is_game_over(board)`: Determines if the game is over. This function must analyze the current state of the board to see if the end condition has been met. If the board is in an end                          state, the game is over. This function **must** return either `True` or `False`."
   ]
  },
  {
   "cell_type": "markdown",
   "metadata": {},
   "source": [
    "* `update_board(board, player, move)`: Updates the board to reflect the move made. Also updates the board's move history logger, which is by default `board.data`. The index of the                                          move history should be a stringified representation of the board's state and the value at that index should be a tuple containing the player's                                        name and the move made."
   ]
  },
  {
   "cell_type": "markdown",
   "metadata": {},
   "source": [
    "### 4.2.2 The Strategy"
   ]
  },
  {
   "cell_type": "markdown",
   "metadata": {},
   "source": [
    "A strategy determines how a player will make a move on the board. Creating a strategy involves implementing the required functions provided by the `StrategyInterface`. The functions consist of the following:\n",
    "\n",
    "* `__init__(name, data = None)`:  A constructor to setup the strategy. A strategy name must be provided. If desired, data can be provided to the strategy.\n",
    "* `move(board)`: Make a move on the given board based on the implemented strategy."
   ]
  },
  {
   "cell_type": "markdown",
   "metadata": {},
   "source": [
    "## 4.3 Constraints"
   ]
  },
  {
   "cell_type": "markdown",
   "metadata": {},
   "source": [
    "No additional parameters may be passed into any of the functions. Additional functions may be added to each implementation, but all original functions must be implemented.\n",
    "\n",
    "Be mindful of how game data will be collected. The `board` has a `data` field that is a dictionary where the keys are strings representing the board state at the current move and the values are tuples containing the player's name and the move made at that move."
   ]
  },
  {
   "cell_type": "markdown",
   "metadata": {},
   "source": [
    "## 4.4 Instructions"
   ]
  },
  {
   "cell_type": "markdown",
   "metadata": {},
   "source": [
    "All necessary files need to be imported, which can become cumbersome depending on where the game is being constructed relative to the necessary files."
   ]
  },
  {
   "cell_type": "raw",
   "metadata": {},
   "source": [
    "# The necessity of these import statements depends on whether\n",
    "# the game is constructed in a file or notebook\n",
    "import sys\n",
    "sys.path.append(\"..\")\n",
    "from classes.player import Player\n",
    "from classes.board import Board\n",
    "from classes.referee import Referee\n",
    "from classes.game import Game\n",
    "from <game_folder> import <Game>Ruleset\n",
    "from <game_folder> import <Game>Strategy"
   ]
  },
  {
   "cell_type": "markdown",
   "metadata": {},
   "source": [
    "Once all files are imported, the game can be constructed and ran with the following code:"
   ]
  },
  {
   "cell_type": "raw",
   "metadata": {},
   "source": [
    "ruleset = <Game>Ruleset(\"Basic <Game> Ruleset\", <initial board state>, [bounds])\n",
    "strategy = <Game>Strategy(\"<Strategy name> for <Game>\", [data])\n",
    "\n",
    "p1 = Player(\"player1\", strategy)\n",
    "p2 = Player(\"player2\", strategy)\n",
    "\n",
    "board = Board(ruleset.initial_state, ruleset.bounds)\n",
    "\n",
    "ref = Referee(board, ruleset)\n",
    "\n",
    "game = Game(ref, board, [p1, p2])\n",
    "\n",
    "board = game.play()"
   ]
  },
  {
   "cell_type": "markdown",
   "metadata": {},
   "source": [
    "---------\n",
    "# 5. Example Implementation\n",
    "---------"
   ]
  },
  {
   "cell_type": "markdown",
   "metadata": {},
   "source": [
    "Below is an example implementation of a very simple guessing game game- We'll just call it *Guess*.\n",
    "\n",
    "The rules are simple: A random number is chosen to start. Both players alternate trying to guess the number. Players win when either they correctly guess the number number or their opponent guesses a previous-guessed number."
   ]
  },
  {
   "cell_type": "markdown",
   "metadata": {},
   "source": [
    "#### We begin by implementing the ruleset:"
   ]
  },
  {
   "cell_type": "code",
   "execution_count": 1,
   "metadata": {},
   "outputs": [],
   "source": [
    "import random\n",
    "from classes.ruleset_interface import RulesetInterface\n",
    "\n",
    "class GuessRuleset(RulesetInterface):\n",
    "    def __init__(self, name, initial_state = 5, bounds = 10):\n",
    "        \"\"\"\n",
    "        Rulset constructor.\n",
    "        \n",
    "        Args:\n",
    "            name : The name of the ruleset\n",
    "            initial_state : The winning number\n",
    "            bounds : The losing number\n",
    "        \"\"\"\n",
    "        self.name = name\n",
    "        self.initial_state = initial_state\n",
    "        self.bounds = bounds\n",
    "    \n",
    "    def is_legal(self, board, proposed_move):\n",
    "        \"\"\"\n",
    "        Determines if the move proposed is legal.\n",
    "        \n",
    "        Args:\n",
    "            board : The board being played on\n",
    "            proposed_move : The move being proposed\n",
    "        \n",
    "        Return:\n",
    "            True if the guess was between 0 and the boards bounds and has not yet been guessed.\n",
    "        \"\"\"\n",
    "        return proposed_move >= 0 and proposed_move <= board.bounds and proposed_move not in list(board.data.keys())\n",
    "\n",
    "    def is_game_over(self, board):\n",
    "        \"\"\"\n",
    "        Determines if the game is over.\n",
    "        \n",
    "        Args:\n",
    "            board : The board being played on\n",
    "            \n",
    "        Return:\n",
    "            True if the guessed number is the winning or losing number.\n",
    "        \"\"\"\n",
    "        return board.state == self.bounds or board.state == self.initial_state\n",
    "    \n",
    "    def update_board(self, board, player, move):\n",
    "        \"\"\"\n",
    "        Updates board's state to reflect the current guess.\n",
    "        \n",
    "        Args:\n",
    "            board : The board being played on\n",
    "            player : The player who made the move\n",
    "            move : The move being made\n",
    "        \"\"\"\n",
    "        board.state = move\n",
    "        board.data[board.state] = (player.name, move)"
   ]
  },
  {
   "cell_type": "markdown",
   "metadata": {},
   "source": [
    "#### Next, we implement a strategy for each player to use:"
   ]
  },
  {
   "cell_type": "code",
   "execution_count": 2,
   "metadata": {},
   "outputs": [],
   "source": [
    "import random\n",
    "from classes.strategy_interface import StrategyInterface\n",
    "\n",
    "class GuessStrategy(StrategyInterface):\n",
    "\n",
    "    def __init__(self, name, data = None):\n",
    "        \"\"\"\n",
    "        Strategy constructor.\n",
    "\n",
    "        Args:\n",
    "            name : The name of the strategy\n",
    "            data : Data to read from, if applicable\n",
    "        \"\"\"\n",
    "        self.name = name\n",
    "        self.data = data\n",
    "\n",
    "    def move(self, board):\n",
    "        \"\"\"\n",
    "        Randomly pick a number.\n",
    "        \n",
    "        Args:\n",
    "            board : The board being played on\n",
    "\n",
    "        Return:\n",
    "            A random number between 0 and the board's bounds.\n",
    "        \"\"\"\n",
    "        return random.randrange(0, board.bounds + 1)"
   ]
  },
  {
   "cell_type": "markdown",
   "metadata": {},
   "source": [
    "#### Now, assemble it all together"
   ]
  },
  {
   "cell_type": "code",
   "execution_count": 3,
   "metadata": {},
   "outputs": [],
   "source": [
    "from classes.player import Player\n",
    "from classes.board import Board\n",
    "from classes.referee import Referee\n",
    "from classes.game import Game"
   ]
  },
  {
   "cell_type": "code",
   "execution_count": 8,
   "metadata": {},
   "outputs": [],
   "source": [
    "ruleset = GuessRuleset(\"Basic Guess Ruleset\", 5, 10)\n",
    "strategy = GuessStrategy(\"Random Strategy for Guess\")\n",
    "\n",
    "p1 = Player(\"player1\", strategy)\n",
    "p2 = Player(\"player2\", strategy)\n",
    "\n",
    "board = Board(ruleset.initial_state, ruleset.bounds)\n",
    "\n",
    "ref = Referee(board, ruleset)\n",
    "\n",
    "game = Game(ref, board, [p1, p2])\n",
    "\n",
    "board = game.play()"
   ]
  },
  {
   "cell_type": "markdown",
   "metadata": {},
   "source": [
    "View the game data by accessing the `board.data` variable"
   ]
  },
  {
   "cell_type": "markdown",
   "metadata": {},
   "source": [
    "----\n",
    "# 6. Running the Game\n",
    "---"
   ]
  },
  {
   "cell_type": "code",
   "execution_count": 9,
   "metadata": {},
   "outputs": [
    {
     "data": {
      "text/plain": [
       "{2: ('player1', 2),\n",
       " 6: ('player2', 6),\n",
       " 9: ('player1', 9),\n",
       " 5: ('player2', 5),\n",
       " 'winner': 'player2'}"
      ]
     },
     "execution_count": 9,
     "metadata": {},
     "output_type": "execute_result"
    }
   ],
   "source": [
    "board.data"
   ]
  },
  {
   "cell_type": "markdown",
   "metadata": {},
   "source": [
    "Note: This example game is not flawless or very complex. However, it has enough restrictions that it showcases how to implement all necessary files properly."
   ]
  },
  {
   "cell_type": "markdown",
   "metadata": {},
   "source": [
    "---\n",
    "# 7. Defining a Pool of Random Strategies\n",
    "---\n",
    "\n",
    "\n",
    "Dr. Penland responded to our request for an example and he provided us with the following code. "
   ]
  },
  {
   "cell_type": "markdown",
   "metadata": {},
   "source": [
    "Note: It works better with iterables or dictionaries than callables. \n",
    "\n",
    "Also notice that the co-domain (possible moves) must be known. At the very least,\n",
    "we need a finite source and target sets. "
   ]
  },
  {
   "cell_type": "code",
   "execution_count": 2,
   "metadata": {},
   "outputs": [],
   "source": [
    "def generate_random_dictionary(key_set, value_set):\n",
    "    the_dict = {}\n",
    "    for quick_key in key_set:\n",
    "        the_dict[quick_key] = choice(value_set)\n",
    "    return the_dict"
   ]
  },
  {
   "cell_type": "code",
   "execution_count": 3,
   "metadata": {},
   "outputs": [],
   "source": [
    "def generate_random_dictionary_population(pop_size, key_set, value_set):\n",
    "    pop = [generate_random_dictionary(key_set, value_set) for x in range(pop_size)]\n",
    "    return pop"
   ]
  },
  {
   "cell_type": "markdown",
   "metadata": {},
   "source": [
    "The focus moving forward is to find a way to implement this into our existing code base to allow for easier data generation/collection."
   ]
  }
 ],
 "metadata": {
  "kernelspec": {
   "display_name": "Python 3",
   "language": "python",
   "name": "python3"
  },
  "language_info": {
   "codemirror_mode": {
    "name": "ipython",
    "version": 3
   },
   "file_extension": ".py",
   "mimetype": "text/x-python",
   "name": "python",
   "nbconvert_exporter": "python",
   "pygments_lexer": "ipython3",
   "version": "3.8.5"
  }
 },
 "nbformat": 4,
 "nbformat_minor": 4
}
